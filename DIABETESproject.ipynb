{
  "cells": [
    {
      "cell_type": "markdown",
      "source": [
        "# **INTRODUCTION** **DIABETES** **DATASET**"
      ],
      "metadata": {
        "id": "9bRHGDRPspW-"
      }
    },
    {
      "cell_type": "markdown",
      "source": [
        "This is diabetes dataset of female patients as pregnancy column is given in the dataset."
      ],
      "metadata": {
        "id": "3FEXjrUxmt0X"
      }
    },
    {
      "cell_type": "markdown",
      "source": [
        "**WHY DIABETES A CHALLENGE**\n",
        "\n",
        "Rapid industrialization and urbanization lead to lifestyle changes that factor into the increasing rate of diabetes in Asia. Some reasons for this increase may include: limited access to affordable and healthy foods in urban areas. changing preferences for certain types of foods"
      ],
      "metadata": {
        "id": "-A_NCFxMmiMw"
      }
    },
    {
      "cell_type": "markdown",
      "source": [
        "\n",
        "  **AIM**\n",
        "\n",
        "*   To perform Exploratory data analysis and feature engineering on diabetes dataset to identify important features for ML algorithms\n",
        "*   To identify the factors associated with diabetes for future prediction of the disease\n",
        "\n"
      ],
      "metadata": {
        "id": "QJ-JqyJuuvDc"
      }
    },
    {
      "cell_type": "markdown",
      "source": [
        "# **EXPLORING** **DATA**"
      ],
      "metadata": {
        "id": "GAYMR7bFs6TR"
      }
    },
    {
      "cell_type": "markdown",
      "source": [
        "## **Reading** **dataset**"
      ],
      "metadata": {
        "id": "GEPxrpxsu8Fc"
      }
    },
    {
      "cell_type": "code",
      "source": [
        "import numpy as np\n",
        "import pandas as pd\n",
        "import seaborn as sns\n",
        "from matplotlib import pyplot as plt"
      ],
      "metadata": {
        "id": "le_oG94SvBi8"
      },
      "execution_count": 1,
      "outputs": []
    },
    {
      "cell_type": "code",
      "source": [
        "diabetes= pd.read_excel(\"/content/diabetes.xlsx\")\n",
        "diabetes.head()"
      ],
      "metadata": {
        "colab": {
          "base_uri": "https://localhost:8080/",
          "height": 206
        },
        "id": "RYnV9LjGvKn9",
        "outputId": "e6dec7e2-592d-4c45-f5d8-76e0365cd155"
      },
      "execution_count": 2,
      "outputs": [
        {
          "output_type": "execute_result",
          "data": {
            "text/plain": [
              "   False  Glucose  Blood Pressure  Skin Thickness  Insulin   BMI  \\\n",
              "0      6      148              72              35        0  33.6   \n",
              "1      1       85              66              29        0  26.6   \n",
              "2      8      183              64               0        0  23.3   \n",
              "3      1       89              66              23       94  28.1   \n",
              "4      0      137              40              35      168  43.1   \n",
              "\n",
              "   Diabetes Pedigree Function  Age  Outcome  \n",
              "0                       0.627   50        1  \n",
              "1                       0.351   31        0  \n",
              "2                       0.672   32        1  \n",
              "3                       0.167   21        0  \n",
              "4                       2.288   33        1  "
            ],
            "text/html": [
              "\n",
              "  <div id=\"df-713d57d8-6b69-40b6-8397-0a0fcae9a03e\">\n",
              "    <div class=\"colab-df-container\">\n",
              "      <div>\n",
              "<style scoped>\n",
              "    .dataframe tbody tr th:only-of-type {\n",
              "        vertical-align: middle;\n",
              "    }\n",
              "\n",
              "    .dataframe tbody tr th {\n",
              "        vertical-align: top;\n",
              "    }\n",
              "\n",
              "    .dataframe thead th {\n",
              "        text-align: right;\n",
              "    }\n",
              "</style>\n",
              "<table border=\"1\" class=\"dataframe\">\n",
              "  <thead>\n",
              "    <tr style=\"text-align: right;\">\n",
              "      <th></th>\n",
              "      <th>False</th>\n",
              "      <th>Glucose</th>\n",
              "      <th>Blood Pressure</th>\n",
              "      <th>Skin Thickness</th>\n",
              "      <th>Insulin</th>\n",
              "      <th>BMI</th>\n",
              "      <th>Diabetes Pedigree Function</th>\n",
              "      <th>Age</th>\n",
              "      <th>Outcome</th>\n",
              "    </tr>\n",
              "  </thead>\n",
              "  <tbody>\n",
              "    <tr>\n",
              "      <th>0</th>\n",
              "      <td>6</td>\n",
              "      <td>148</td>\n",
              "      <td>72</td>\n",
              "      <td>35</td>\n",
              "      <td>0</td>\n",
              "      <td>33.6</td>\n",
              "      <td>0.627</td>\n",
              "      <td>50</td>\n",
              "      <td>1</td>\n",
              "    </tr>\n",
              "    <tr>\n",
              "      <th>1</th>\n",
              "      <td>1</td>\n",
              "      <td>85</td>\n",
              "      <td>66</td>\n",
              "      <td>29</td>\n",
              "      <td>0</td>\n",
              "      <td>26.6</td>\n",
              "      <td>0.351</td>\n",
              "      <td>31</td>\n",
              "      <td>0</td>\n",
              "    </tr>\n",
              "    <tr>\n",
              "      <th>2</th>\n",
              "      <td>8</td>\n",
              "      <td>183</td>\n",
              "      <td>64</td>\n",
              "      <td>0</td>\n",
              "      <td>0</td>\n",
              "      <td>23.3</td>\n",
              "      <td>0.672</td>\n",
              "      <td>32</td>\n",
              "      <td>1</td>\n",
              "    </tr>\n",
              "    <tr>\n",
              "      <th>3</th>\n",
              "      <td>1</td>\n",
              "      <td>89</td>\n",
              "      <td>66</td>\n",
              "      <td>23</td>\n",
              "      <td>94</td>\n",
              "      <td>28.1</td>\n",
              "      <td>0.167</td>\n",
              "      <td>21</td>\n",
              "      <td>0</td>\n",
              "    </tr>\n",
              "    <tr>\n",
              "      <th>4</th>\n",
              "      <td>0</td>\n",
              "      <td>137</td>\n",
              "      <td>40</td>\n",
              "      <td>35</td>\n",
              "      <td>168</td>\n",
              "      <td>43.1</td>\n",
              "      <td>2.288</td>\n",
              "      <td>33</td>\n",
              "      <td>1</td>\n",
              "    </tr>\n",
              "  </tbody>\n",
              "</table>\n",
              "</div>\n",
              "      <button class=\"colab-df-convert\" onclick=\"convertToInteractive('df-713d57d8-6b69-40b6-8397-0a0fcae9a03e')\"\n",
              "              title=\"Convert this dataframe to an interactive table.\"\n",
              "              style=\"display:none;\">\n",
              "        \n",
              "  <svg xmlns=\"http://www.w3.org/2000/svg\" height=\"24px\"viewBox=\"0 0 24 24\"\n",
              "       width=\"24px\">\n",
              "    <path d=\"M0 0h24v24H0V0z\" fill=\"none\"/>\n",
              "    <path d=\"M18.56 5.44l.94 2.06.94-2.06 2.06-.94-2.06-.94-.94-2.06-.94 2.06-2.06.94zm-11 1L8.5 8.5l.94-2.06 2.06-.94-2.06-.94L8.5 2.5l-.94 2.06-2.06.94zm10 10l.94 2.06.94-2.06 2.06-.94-2.06-.94-.94-2.06-.94 2.06-2.06.94z\"/><path d=\"M17.41 7.96l-1.37-1.37c-.4-.4-.92-.59-1.43-.59-.52 0-1.04.2-1.43.59L10.3 9.45l-7.72 7.72c-.78.78-.78 2.05 0 2.83L4 21.41c.39.39.9.59 1.41.59.51 0 1.02-.2 1.41-.59l7.78-7.78 2.81-2.81c.8-.78.8-2.07 0-2.86zM5.41 20L4 18.59l7.72-7.72 1.47 1.35L5.41 20z\"/>\n",
              "  </svg>\n",
              "      </button>\n",
              "      \n",
              "  <style>\n",
              "    .colab-df-container {\n",
              "      display:flex;\n",
              "      flex-wrap:wrap;\n",
              "      gap: 12px;\n",
              "    }\n",
              "\n",
              "    .colab-df-convert {\n",
              "      background-color: #E8F0FE;\n",
              "      border: none;\n",
              "      border-radius: 50%;\n",
              "      cursor: pointer;\n",
              "      display: none;\n",
              "      fill: #1967D2;\n",
              "      height: 32px;\n",
              "      padding: 0 0 0 0;\n",
              "      width: 32px;\n",
              "    }\n",
              "\n",
              "    .colab-df-convert:hover {\n",
              "      background-color: #E2EBFA;\n",
              "      box-shadow: 0px 1px 2px rgba(60, 64, 67, 0.3), 0px 1px 3px 1px rgba(60, 64, 67, 0.15);\n",
              "      fill: #174EA6;\n",
              "    }\n",
              "\n",
              "    [theme=dark] .colab-df-convert {\n",
              "      background-color: #3B4455;\n",
              "      fill: #D2E3FC;\n",
              "    }\n",
              "\n",
              "    [theme=dark] .colab-df-convert:hover {\n",
              "      background-color: #434B5C;\n",
              "      box-shadow: 0px 1px 3px 1px rgba(0, 0, 0, 0.15);\n",
              "      filter: drop-shadow(0px 1px 2px rgba(0, 0, 0, 0.3));\n",
              "      fill: #FFFFFF;\n",
              "    }\n",
              "  </style>\n",
              "\n",
              "      <script>\n",
              "        const buttonEl =\n",
              "          document.querySelector('#df-713d57d8-6b69-40b6-8397-0a0fcae9a03e button.colab-df-convert');\n",
              "        buttonEl.style.display =\n",
              "          google.colab.kernel.accessAllowed ? 'block' : 'none';\n",
              "\n",
              "        async function convertToInteractive(key) {\n",
              "          const element = document.querySelector('#df-713d57d8-6b69-40b6-8397-0a0fcae9a03e');\n",
              "          const dataTable =\n",
              "            await google.colab.kernel.invokeFunction('convertToInteractive',\n",
              "                                                     [key], {});\n",
              "          if (!dataTable) return;\n",
              "\n",
              "          const docLinkHtml = 'Like what you see? Visit the ' +\n",
              "            '<a target=\"_blank\" href=https://colab.research.google.com/notebooks/data_table.ipynb>data table notebook</a>'\n",
              "            + ' to learn more about interactive tables.';\n",
              "          element.innerHTML = '';\n",
              "          dataTable['output_type'] = 'display_data';\n",
              "          await google.colab.output.renderOutput(dataTable, element);\n",
              "          const docLink = document.createElement('div');\n",
              "          docLink.innerHTML = docLinkHtml;\n",
              "          element.appendChild(docLink);\n",
              "        }\n",
              "      </script>\n",
              "    </div>\n",
              "  </div>\n",
              "  "
            ]
          },
          "metadata": {},
          "execution_count": 2
        }
      ]
    },
    {
      "cell_type": "code",
      "source": [
        "## correction in the name of columns \n",
        "diabetes.rename(columns={False:\"Pregnancies\",\" BMI\":\"BMI\"},inplace=True)   "
      ],
      "metadata": {
        "id": "e-CTgBPUvn8Z"
      },
      "execution_count": 3,
      "outputs": []
    },
    {
      "cell_type": "markdown",
      "source": [
        "## **Exploring basics**"
      ],
      "metadata": {
        "id": "jlDMYESOwgIJ"
      }
    },
    {
      "cell_type": "code",
      "source": [
        "diabetes.info()"
      ],
      "metadata": {
        "id": "2wTTlU0Uwsko",
        "colab": {
          "base_uri": "https://localhost:8080/"
        },
        "outputId": "b6f2a462-593e-4943-e1af-ed817e29069c"
      },
      "execution_count": 4,
      "outputs": [
        {
          "output_type": "stream",
          "name": "stdout",
          "text": [
            "<class 'pandas.core.frame.DataFrame'>\n",
            "RangeIndex: 768 entries, 0 to 767\n",
            "Data columns (total 9 columns):\n",
            " #   Column                      Non-Null Count  Dtype  \n",
            "---  ------                      --------------  -----  \n",
            " 0   Pregnancies                 768 non-null    int64  \n",
            " 1   Glucose                     768 non-null    int64  \n",
            " 2   Blood Pressure              768 non-null    int64  \n",
            " 3   Skin Thickness              768 non-null    int64  \n",
            " 4   Insulin                     768 non-null    int64  \n",
            " 5   BMI                         768 non-null    float64\n",
            " 6   Diabetes Pedigree Function  768 non-null    float64\n",
            " 7   Age                         768 non-null    int64  \n",
            " 8   Outcome                     768 non-null    int64  \n",
            "dtypes: float64(2), int64(7)\n",
            "memory usage: 54.1 KB\n"
          ]
        }
      ]
    },
    {
      "cell_type": "code",
      "source": [
        "diabetes.shape"
      ],
      "metadata": {
        "id": "6SdSIi1_w2Lm",
        "colab": {
          "base_uri": "https://localhost:8080/"
        },
        "outputId": "7ce31044-a890-4ec2-b610-c8023d9f8726"
      },
      "execution_count": 5,
      "outputs": [
        {
          "output_type": "execute_result",
          "data": {
            "text/plain": [
              "(768, 9)"
            ]
          },
          "metadata": {},
          "execution_count": 5
        }
      ]
    },
    {
      "cell_type": "code",
      "source": [
        "diabetes.head()"
      ],
      "metadata": {
        "id": "SMU6HyIcw5Hq",
        "colab": {
          "base_uri": "https://localhost:8080/",
          "height": 206
        },
        "outputId": "ced678bc-b912-476b-80c4-b4b687364009"
      },
      "execution_count": 6,
      "outputs": [
        {
          "output_type": "execute_result",
          "data": {
            "text/plain": [
              "   Pregnancies  Glucose  Blood Pressure  Skin Thickness  Insulin   BMI  \\\n",
              "0            6      148              72              35        0  33.6   \n",
              "1            1       85              66              29        0  26.6   \n",
              "2            8      183              64               0        0  23.3   \n",
              "3            1       89              66              23       94  28.1   \n",
              "4            0      137              40              35      168  43.1   \n",
              "\n",
              "   Diabetes Pedigree Function  Age  Outcome  \n",
              "0                       0.627   50        1  \n",
              "1                       0.351   31        0  \n",
              "2                       0.672   32        1  \n",
              "3                       0.167   21        0  \n",
              "4                       2.288   33        1  "
            ],
            "text/html": [
              "\n",
              "  <div id=\"df-2c8d6b09-e4f7-472e-bd07-3185f5f12cc8\">\n",
              "    <div class=\"colab-df-container\">\n",
              "      <div>\n",
              "<style scoped>\n",
              "    .dataframe tbody tr th:only-of-type {\n",
              "        vertical-align: middle;\n",
              "    }\n",
              "\n",
              "    .dataframe tbody tr th {\n",
              "        vertical-align: top;\n",
              "    }\n",
              "\n",
              "    .dataframe thead th {\n",
              "        text-align: right;\n",
              "    }\n",
              "</style>\n",
              "<table border=\"1\" class=\"dataframe\">\n",
              "  <thead>\n",
              "    <tr style=\"text-align: right;\">\n",
              "      <th></th>\n",
              "      <th>Pregnancies</th>\n",
              "      <th>Glucose</th>\n",
              "      <th>Blood Pressure</th>\n",
              "      <th>Skin Thickness</th>\n",
              "      <th>Insulin</th>\n",
              "      <th>BMI</th>\n",
              "      <th>Diabetes Pedigree Function</th>\n",
              "      <th>Age</th>\n",
              "      <th>Outcome</th>\n",
              "    </tr>\n",
              "  </thead>\n",
              "  <tbody>\n",
              "    <tr>\n",
              "      <th>0</th>\n",
              "      <td>6</td>\n",
              "      <td>148</td>\n",
              "      <td>72</td>\n",
              "      <td>35</td>\n",
              "      <td>0</td>\n",
              "      <td>33.6</td>\n",
              "      <td>0.627</td>\n",
              "      <td>50</td>\n",
              "      <td>1</td>\n",
              "    </tr>\n",
              "    <tr>\n",
              "      <th>1</th>\n",
              "      <td>1</td>\n",
              "      <td>85</td>\n",
              "      <td>66</td>\n",
              "      <td>29</td>\n",
              "      <td>0</td>\n",
              "      <td>26.6</td>\n",
              "      <td>0.351</td>\n",
              "      <td>31</td>\n",
              "      <td>0</td>\n",
              "    </tr>\n",
              "    <tr>\n",
              "      <th>2</th>\n",
              "      <td>8</td>\n",
              "      <td>183</td>\n",
              "      <td>64</td>\n",
              "      <td>0</td>\n",
              "      <td>0</td>\n",
              "      <td>23.3</td>\n",
              "      <td>0.672</td>\n",
              "      <td>32</td>\n",
              "      <td>1</td>\n",
              "    </tr>\n",
              "    <tr>\n",
              "      <th>3</th>\n",
              "      <td>1</td>\n",
              "      <td>89</td>\n",
              "      <td>66</td>\n",
              "      <td>23</td>\n",
              "      <td>94</td>\n",
              "      <td>28.1</td>\n",
              "      <td>0.167</td>\n",
              "      <td>21</td>\n",
              "      <td>0</td>\n",
              "    </tr>\n",
              "    <tr>\n",
              "      <th>4</th>\n",
              "      <td>0</td>\n",
              "      <td>137</td>\n",
              "      <td>40</td>\n",
              "      <td>35</td>\n",
              "      <td>168</td>\n",
              "      <td>43.1</td>\n",
              "      <td>2.288</td>\n",
              "      <td>33</td>\n",
              "      <td>1</td>\n",
              "    </tr>\n",
              "  </tbody>\n",
              "</table>\n",
              "</div>\n",
              "      <button class=\"colab-df-convert\" onclick=\"convertToInteractive('df-2c8d6b09-e4f7-472e-bd07-3185f5f12cc8')\"\n",
              "              title=\"Convert this dataframe to an interactive table.\"\n",
              "              style=\"display:none;\">\n",
              "        \n",
              "  <svg xmlns=\"http://www.w3.org/2000/svg\" height=\"24px\"viewBox=\"0 0 24 24\"\n",
              "       width=\"24px\">\n",
              "    <path d=\"M0 0h24v24H0V0z\" fill=\"none\"/>\n",
              "    <path d=\"M18.56 5.44l.94 2.06.94-2.06 2.06-.94-2.06-.94-.94-2.06-.94 2.06-2.06.94zm-11 1L8.5 8.5l.94-2.06 2.06-.94-2.06-.94L8.5 2.5l-.94 2.06-2.06.94zm10 10l.94 2.06.94-2.06 2.06-.94-2.06-.94-.94-2.06-.94 2.06-2.06.94z\"/><path d=\"M17.41 7.96l-1.37-1.37c-.4-.4-.92-.59-1.43-.59-.52 0-1.04.2-1.43.59L10.3 9.45l-7.72 7.72c-.78.78-.78 2.05 0 2.83L4 21.41c.39.39.9.59 1.41.59.51 0 1.02-.2 1.41-.59l7.78-7.78 2.81-2.81c.8-.78.8-2.07 0-2.86zM5.41 20L4 18.59l7.72-7.72 1.47 1.35L5.41 20z\"/>\n",
              "  </svg>\n",
              "      </button>\n",
              "      \n",
              "  <style>\n",
              "    .colab-df-container {\n",
              "      display:flex;\n",
              "      flex-wrap:wrap;\n",
              "      gap: 12px;\n",
              "    }\n",
              "\n",
              "    .colab-df-convert {\n",
              "      background-color: #E8F0FE;\n",
              "      border: none;\n",
              "      border-radius: 50%;\n",
              "      cursor: pointer;\n",
              "      display: none;\n",
              "      fill: #1967D2;\n",
              "      height: 32px;\n",
              "      padding: 0 0 0 0;\n",
              "      width: 32px;\n",
              "    }\n",
              "\n",
              "    .colab-df-convert:hover {\n",
              "      background-color: #E2EBFA;\n",
              "      box-shadow: 0px 1px 2px rgba(60, 64, 67, 0.3), 0px 1px 3px 1px rgba(60, 64, 67, 0.15);\n",
              "      fill: #174EA6;\n",
              "    }\n",
              "\n",
              "    [theme=dark] .colab-df-convert {\n",
              "      background-color: #3B4455;\n",
              "      fill: #D2E3FC;\n",
              "    }\n",
              "\n",
              "    [theme=dark] .colab-df-convert:hover {\n",
              "      background-color: #434B5C;\n",
              "      box-shadow: 0px 1px 3px 1px rgba(0, 0, 0, 0.15);\n",
              "      filter: drop-shadow(0px 1px 2px rgba(0, 0, 0, 0.3));\n",
              "      fill: #FFFFFF;\n",
              "    }\n",
              "  </style>\n",
              "\n",
              "      <script>\n",
              "        const buttonEl =\n",
              "          document.querySelector('#df-2c8d6b09-e4f7-472e-bd07-3185f5f12cc8 button.colab-df-convert');\n",
              "        buttonEl.style.display =\n",
              "          google.colab.kernel.accessAllowed ? 'block' : 'none';\n",
              "\n",
              "        async function convertToInteractive(key) {\n",
              "          const element = document.querySelector('#df-2c8d6b09-e4f7-472e-bd07-3185f5f12cc8');\n",
              "          const dataTable =\n",
              "            await google.colab.kernel.invokeFunction('convertToInteractive',\n",
              "                                                     [key], {});\n",
              "          if (!dataTable) return;\n",
              "\n",
              "          const docLinkHtml = 'Like what you see? Visit the ' +\n",
              "            '<a target=\"_blank\" href=https://colab.research.google.com/notebooks/data_table.ipynb>data table notebook</a>'\n",
              "            + ' to learn more about interactive tables.';\n",
              "          element.innerHTML = '';\n",
              "          dataTable['output_type'] = 'display_data';\n",
              "          await google.colab.output.renderOutput(dataTable, element);\n",
              "          const docLink = document.createElement('div');\n",
              "          docLink.innerHTML = docLinkHtml;\n",
              "          element.appendChild(docLink);\n",
              "        }\n",
              "      </script>\n",
              "    </div>\n",
              "  </div>\n",
              "  "
            ]
          },
          "metadata": {},
          "execution_count": 6
        }
      ]
    },
    {
      "cell_type": "code",
      "source": [
        "diabetes.describe()"
      ],
      "metadata": {
        "id": "mgIJn1SvxASQ",
        "colab": {
          "base_uri": "https://localhost:8080/",
          "height": 300
        },
        "outputId": "2d96ac9c-9e35-494a-96b6-21c624e47fb4"
      },
      "execution_count": 7,
      "outputs": [
        {
          "output_type": "execute_result",
          "data": {
            "text/plain": [
              "       Pregnancies     Glucose  Blood Pressure  Skin Thickness     Insulin  \\\n",
              "count   768.000000  768.000000      768.000000      768.000000  768.000000   \n",
              "mean      3.845052  120.894531       69.105469       20.536458   79.799479   \n",
              "std       3.369578   31.972618       19.355807       15.952218  115.244002   \n",
              "min       0.000000    0.000000        0.000000        0.000000    0.000000   \n",
              "25%       1.000000   99.000000       62.000000        0.000000    0.000000   \n",
              "50%       3.000000  117.000000       72.000000       23.000000   30.500000   \n",
              "75%       6.000000  140.250000       80.000000       32.000000  127.250000   \n",
              "max      17.000000  199.000000      122.000000       99.000000  846.000000   \n",
              "\n",
              "              BMI  Diabetes Pedigree Function         Age     Outcome  \n",
              "count  768.000000                  768.000000  768.000000  768.000000  \n",
              "mean    31.992578                    0.471876   33.240885    0.348958  \n",
              "std      7.884160                    0.331329   11.760232    0.476951  \n",
              "min      0.000000                    0.078000   21.000000    0.000000  \n",
              "25%     27.300000                    0.243750   24.000000    0.000000  \n",
              "50%     32.000000                    0.372500   29.000000    0.000000  \n",
              "75%     36.600000                    0.626250   41.000000    1.000000  \n",
              "max     67.100000                    2.420000   81.000000    1.000000  "
            ],
            "text/html": [
              "\n",
              "  <div id=\"df-06e22f9f-f460-49f0-bc14-8c1e9817f6b2\">\n",
              "    <div class=\"colab-df-container\">\n",
              "      <div>\n",
              "<style scoped>\n",
              "    .dataframe tbody tr th:only-of-type {\n",
              "        vertical-align: middle;\n",
              "    }\n",
              "\n",
              "    .dataframe tbody tr th {\n",
              "        vertical-align: top;\n",
              "    }\n",
              "\n",
              "    .dataframe thead th {\n",
              "        text-align: right;\n",
              "    }\n",
              "</style>\n",
              "<table border=\"1\" class=\"dataframe\">\n",
              "  <thead>\n",
              "    <tr style=\"text-align: right;\">\n",
              "      <th></th>\n",
              "      <th>Pregnancies</th>\n",
              "      <th>Glucose</th>\n",
              "      <th>Blood Pressure</th>\n",
              "      <th>Skin Thickness</th>\n",
              "      <th>Insulin</th>\n",
              "      <th>BMI</th>\n",
              "      <th>Diabetes Pedigree Function</th>\n",
              "      <th>Age</th>\n",
              "      <th>Outcome</th>\n",
              "    </tr>\n",
              "  </thead>\n",
              "  <tbody>\n",
              "    <tr>\n",
              "      <th>count</th>\n",
              "      <td>768.000000</td>\n",
              "      <td>768.000000</td>\n",
              "      <td>768.000000</td>\n",
              "      <td>768.000000</td>\n",
              "      <td>768.000000</td>\n",
              "      <td>768.000000</td>\n",
              "      <td>768.000000</td>\n",
              "      <td>768.000000</td>\n",
              "      <td>768.000000</td>\n",
              "    </tr>\n",
              "    <tr>\n",
              "      <th>mean</th>\n",
              "      <td>3.845052</td>\n",
              "      <td>120.894531</td>\n",
              "      <td>69.105469</td>\n",
              "      <td>20.536458</td>\n",
              "      <td>79.799479</td>\n",
              "      <td>31.992578</td>\n",
              "      <td>0.471876</td>\n",
              "      <td>33.240885</td>\n",
              "      <td>0.348958</td>\n",
              "    </tr>\n",
              "    <tr>\n",
              "      <th>std</th>\n",
              "      <td>3.369578</td>\n",
              "      <td>31.972618</td>\n",
              "      <td>19.355807</td>\n",
              "      <td>15.952218</td>\n",
              "      <td>115.244002</td>\n",
              "      <td>7.884160</td>\n",
              "      <td>0.331329</td>\n",
              "      <td>11.760232</td>\n",
              "      <td>0.476951</td>\n",
              "    </tr>\n",
              "    <tr>\n",
              "      <th>min</th>\n",
              "      <td>0.000000</td>\n",
              "      <td>0.000000</td>\n",
              "      <td>0.000000</td>\n",
              "      <td>0.000000</td>\n",
              "      <td>0.000000</td>\n",
              "      <td>0.000000</td>\n",
              "      <td>0.078000</td>\n",
              "      <td>21.000000</td>\n",
              "      <td>0.000000</td>\n",
              "    </tr>\n",
              "    <tr>\n",
              "      <th>25%</th>\n",
              "      <td>1.000000</td>\n",
              "      <td>99.000000</td>\n",
              "      <td>62.000000</td>\n",
              "      <td>0.000000</td>\n",
              "      <td>0.000000</td>\n",
              "      <td>27.300000</td>\n",
              "      <td>0.243750</td>\n",
              "      <td>24.000000</td>\n",
              "      <td>0.000000</td>\n",
              "    </tr>\n",
              "    <tr>\n",
              "      <th>50%</th>\n",
              "      <td>3.000000</td>\n",
              "      <td>117.000000</td>\n",
              "      <td>72.000000</td>\n",
              "      <td>23.000000</td>\n",
              "      <td>30.500000</td>\n",
              "      <td>32.000000</td>\n",
              "      <td>0.372500</td>\n",
              "      <td>29.000000</td>\n",
              "      <td>0.000000</td>\n",
              "    </tr>\n",
              "    <tr>\n",
              "      <th>75%</th>\n",
              "      <td>6.000000</td>\n",
              "      <td>140.250000</td>\n",
              "      <td>80.000000</td>\n",
              "      <td>32.000000</td>\n",
              "      <td>127.250000</td>\n",
              "      <td>36.600000</td>\n",
              "      <td>0.626250</td>\n",
              "      <td>41.000000</td>\n",
              "      <td>1.000000</td>\n",
              "    </tr>\n",
              "    <tr>\n",
              "      <th>max</th>\n",
              "      <td>17.000000</td>\n",
              "      <td>199.000000</td>\n",
              "      <td>122.000000</td>\n",
              "      <td>99.000000</td>\n",
              "      <td>846.000000</td>\n",
              "      <td>67.100000</td>\n",
              "      <td>2.420000</td>\n",
              "      <td>81.000000</td>\n",
              "      <td>1.000000</td>\n",
              "    </tr>\n",
              "  </tbody>\n",
              "</table>\n",
              "</div>\n",
              "      <button class=\"colab-df-convert\" onclick=\"convertToInteractive('df-06e22f9f-f460-49f0-bc14-8c1e9817f6b2')\"\n",
              "              title=\"Convert this dataframe to an interactive table.\"\n",
              "              style=\"display:none;\">\n",
              "        \n",
              "  <svg xmlns=\"http://www.w3.org/2000/svg\" height=\"24px\"viewBox=\"0 0 24 24\"\n",
              "       width=\"24px\">\n",
              "    <path d=\"M0 0h24v24H0V0z\" fill=\"none\"/>\n",
              "    <path d=\"M18.56 5.44l.94 2.06.94-2.06 2.06-.94-2.06-.94-.94-2.06-.94 2.06-2.06.94zm-11 1L8.5 8.5l.94-2.06 2.06-.94-2.06-.94L8.5 2.5l-.94 2.06-2.06.94zm10 10l.94 2.06.94-2.06 2.06-.94-2.06-.94-.94-2.06-.94 2.06-2.06.94z\"/><path d=\"M17.41 7.96l-1.37-1.37c-.4-.4-.92-.59-1.43-.59-.52 0-1.04.2-1.43.59L10.3 9.45l-7.72 7.72c-.78.78-.78 2.05 0 2.83L4 21.41c.39.39.9.59 1.41.59.51 0 1.02-.2 1.41-.59l7.78-7.78 2.81-2.81c.8-.78.8-2.07 0-2.86zM5.41 20L4 18.59l7.72-7.72 1.47 1.35L5.41 20z\"/>\n",
              "  </svg>\n",
              "      </button>\n",
              "      \n",
              "  <style>\n",
              "    .colab-df-container {\n",
              "      display:flex;\n",
              "      flex-wrap:wrap;\n",
              "      gap: 12px;\n",
              "    }\n",
              "\n",
              "    .colab-df-convert {\n",
              "      background-color: #E8F0FE;\n",
              "      border: none;\n",
              "      border-radius: 50%;\n",
              "      cursor: pointer;\n",
              "      display: none;\n",
              "      fill: #1967D2;\n",
              "      height: 32px;\n",
              "      padding: 0 0 0 0;\n",
              "      width: 32px;\n",
              "    }\n",
              "\n",
              "    .colab-df-convert:hover {\n",
              "      background-color: #E2EBFA;\n",
              "      box-shadow: 0px 1px 2px rgba(60, 64, 67, 0.3), 0px 1px 3px 1px rgba(60, 64, 67, 0.15);\n",
              "      fill: #174EA6;\n",
              "    }\n",
              "\n",
              "    [theme=dark] .colab-df-convert {\n",
              "      background-color: #3B4455;\n",
              "      fill: #D2E3FC;\n",
              "    }\n",
              "\n",
              "    [theme=dark] .colab-df-convert:hover {\n",
              "      background-color: #434B5C;\n",
              "      box-shadow: 0px 1px 3px 1px rgba(0, 0, 0, 0.15);\n",
              "      filter: drop-shadow(0px 1px 2px rgba(0, 0, 0, 0.3));\n",
              "      fill: #FFFFFF;\n",
              "    }\n",
              "  </style>\n",
              "\n",
              "      <script>\n",
              "        const buttonEl =\n",
              "          document.querySelector('#df-06e22f9f-f460-49f0-bc14-8c1e9817f6b2 button.colab-df-convert');\n",
              "        buttonEl.style.display =\n",
              "          google.colab.kernel.accessAllowed ? 'block' : 'none';\n",
              "\n",
              "        async function convertToInteractive(key) {\n",
              "          const element = document.querySelector('#df-06e22f9f-f460-49f0-bc14-8c1e9817f6b2');\n",
              "          const dataTable =\n",
              "            await google.colab.kernel.invokeFunction('convertToInteractive',\n",
              "                                                     [key], {});\n",
              "          if (!dataTable) return;\n",
              "\n",
              "          const docLinkHtml = 'Like what you see? Visit the ' +\n",
              "            '<a target=\"_blank\" href=https://colab.research.google.com/notebooks/data_table.ipynb>data table notebook</a>'\n",
              "            + ' to learn more about interactive tables.';\n",
              "          element.innerHTML = '';\n",
              "          dataTable['output_type'] = 'display_data';\n",
              "          await google.colab.output.renderOutput(dataTable, element);\n",
              "          const docLink = document.createElement('div');\n",
              "          docLink.innerHTML = docLinkHtml;\n",
              "          element.appendChild(docLink);\n",
              "        }\n",
              "      </script>\n",
              "    </div>\n",
              "  </div>\n",
              "  "
            ]
          },
          "metadata": {},
          "execution_count": 7
        }
      ]
    },
    {
      "cell_type": "code",
      "source": [
        "diabetes.isnull().sum()      #### calulating null values"
      ],
      "metadata": {
        "id": "sE3zg5HIxP0D",
        "colab": {
          "base_uri": "https://localhost:8080/"
        },
        "outputId": "52cc7ae2-7cdb-4c4b-b042-9e0d103b6d0c"
      },
      "execution_count": 8,
      "outputs": [
        {
          "output_type": "execute_result",
          "data": {
            "text/plain": [
              "Pregnancies                   0\n",
              "Glucose                       0\n",
              "Blood Pressure                0\n",
              "Skin Thickness                0\n",
              "Insulin                       0\n",
              "BMI                           0\n",
              "Diabetes Pedigree Function    0\n",
              "Age                           0\n",
              "Outcome                       0\n",
              "dtype: int64"
            ]
          },
          "metadata": {},
          "execution_count": 8
        }
      ]
    },
    {
      "cell_type": "markdown",
      "source": [
        "From basic exploration we came to know that\n",
        "\n",
        "\n",
        "*   All are numerical variables in the dataset\n",
        "*   there is one categorical column which is also target variable and is converted already into numerical\n",
        "*   we have total 768 rows means 768 individual and 9 columns\n",
        "*   there is no null value in the dataset but there may be some hidden missing values present as 0 or any special character\n",
        "\n",
        "\n",
        "\n"
      ],
      "metadata": {
        "id": "PvRgBZv-xY0O"
      }
    },
    {
      "cell_type": "markdown",
      "source": [
        "## **hidden missing value replacement**"
      ],
      "metadata": {
        "id": "TW7X8w_1zdCM"
      }
    },
    {
      "cell_type": "code",
      "source": [
        "columns=diabetes.columns\n",
        "for i in columns:\n",
        "  print(i,\"\\n\",diabetes[i].unique())"
      ],
      "metadata": {
        "id": "DZDIkuTpzpCq",
        "colab": {
          "base_uri": "https://localhost:8080/"
        },
        "outputId": "fd335671-e658-4378-da64-30db74e19ddc"
      },
      "execution_count": 9,
      "outputs": [
        {
          "output_type": "stream",
          "name": "stdout",
          "text": [
            "Pregnancies \n",
            " [ 6  1  8  0  5  3 10  2  4  7  9 11 13 15 17 12 14]\n",
            "Glucose \n",
            " [148  85 183  89 137 116  78 115 197 125 110 168 139 189 166 100 118 107\n",
            " 103 126  99 196 119 143 147  97 145 117 109 158  88  92 122 138 102  90\n",
            " 111 180 133 106 171 159 146  71 105 101 176 150  73 187  84  44 141 114\n",
            "  95 129  79   0  62 131 112 113  74  83 136  80 123  81 134 142 144  93\n",
            " 163 151  96 155  76 160 124 162 132 120 173 170 128 108 154  57 156 153\n",
            " 188 152 104  87  75 179 130 194 181 135 184 140 177 164  91 165  86 193\n",
            " 191 161 167  77 182 157 178  61  98 127  82  72 172  94 175 195  68 186\n",
            " 198 121  67 174 199  56 169 149  65 190]\n",
            "Blood Pressure \n",
            " [ 72  66  64  40  74  50   0  70  96  92  80  60  84  30  88  90  94  76\n",
            "  82  75  58  78  68 110  56  62  85  86  48  44  65 108  55 122  54  52\n",
            "  98 104  95  46 102 100  61  24  38 106 114]\n",
            "Skin Thickness \n",
            " [35 29  0 23 32 45 19 47 38 30 41 33 26 15 36 11 31 37 42 25 18 24 39 27\n",
            " 21 34 10 60 13 20 22 28 54 40 51 56 14 17 50 44 12 46 16  7 52 43 48  8\n",
            " 49 63 99]\n",
            "Insulin \n",
            " [  0  94 168  88 543 846 175 230  83  96 235 146 115 140 110 245  54 192\n",
            " 207  70 240  82  36  23 300 342 304 142 128  38 100  90 270  71 125 176\n",
            "  48  64 228  76 220  40 152  18 135 495  37  51  99 145 225  49  50  92\n",
            " 325  63 284 119 204 155 485  53 114 105 285 156  78 130  55  58 160 210\n",
            " 318  44 190 280  87 271 129 120 478  56  32 744 370  45 194 680 402 258\n",
            " 375 150  67  57 116 278 122 545  75  74 182 360 215 184  42 132 148 180\n",
            " 205  85 231  29  68  52 255 171  73 108  43 167 249 293  66 465  89 158\n",
            "  84  72  59  81 196 415 275 165 579 310  61 474 170 277  60  14  95 237\n",
            " 191 328 250 480 265 193  79  86 326 188 106  65 166 274  77 126 330 600\n",
            " 185  25  41 272 321 144  15 183  91  46 440 159 540 200 335 387  22 291\n",
            " 392 178 127 510  16 112]\n",
            "BMI \n",
            " [33.6 26.6 23.3 28.1 43.1 25.6 31.  35.3 30.5  0.  37.6 38.  27.1 30.1\n",
            " 25.8 30.  45.8 29.6 43.3 34.6 39.3 35.4 39.8 29.  36.6 31.1 39.4 23.2\n",
            " 22.2 34.1 36.  31.6 24.8 19.9 27.6 24.  33.2 32.9 38.2 37.1 34.  40.2\n",
            " 22.7 45.4 27.4 42.  29.7 28.  39.1 19.4 24.2 24.4 33.7 34.7 23.  37.7\n",
            " 46.8 40.5 41.5 25.  25.4 32.8 32.5 42.7 19.6 28.9 28.6 43.4 35.1 32.\n",
            " 24.7 32.6 43.2 22.4 29.3 24.6 48.8 32.4 38.5 26.5 19.1 46.7 23.8 33.9\n",
            " 20.4 28.7 49.7 39.  26.1 22.5 39.6 29.5 34.3 37.4 33.3 31.2 28.2 53.2\n",
            " 34.2 26.8 55.  42.9 34.5 27.9 38.3 21.1 33.8 30.8 36.9 39.5 27.3 21.9\n",
            " 40.6 47.9 50.  25.2 40.9 37.2 44.2 29.9 31.9 28.4 43.5 32.7 67.1 45.\n",
            " 34.9 27.7 35.9 22.6 33.1 30.4 52.3 24.3 22.9 34.8 30.9 40.1 23.9 37.5\n",
            " 35.5 42.8 42.6 41.8 35.8 37.8 28.8 23.6 35.7 36.7 45.2 44.  46.2 35.\n",
            " 43.6 44.1 18.4 29.2 25.9 32.1 36.3 40.  25.1 27.5 45.6 27.8 24.9 25.3\n",
            " 37.9 27.  26.  38.7 20.8 36.1 30.7 32.3 52.9 21.  39.7 25.5 26.2 19.3\n",
            " 38.1 23.5 45.5 23.1 39.9 36.8 21.8 41.  42.2 34.4 27.2 36.5 29.8 39.2\n",
            " 38.4 36.2 48.3 20.  22.3 45.7 23.7 22.1 42.1 42.4 18.2 26.4 45.3 37.\n",
            " 24.5 32.2 59.4 21.2 26.7 30.2 46.1 41.3 38.8 35.2 42.3 40.7 46.5 33.5\n",
            " 37.3 30.3 26.3 21.7 36.4 28.5 26.9 38.6 31.3 19.5 20.1 40.8 23.4 28.3\n",
            " 38.9 57.3 35.6 49.6 44.6 24.1 44.5 41.2 49.3 46.3]\n",
            "Diabetes Pedigree Function \n",
            " [0.627 0.351 0.672 0.167 2.288 0.201 0.248 0.134 0.158 0.232 0.191 0.537\n",
            " 1.441 0.398 0.587 0.484 0.551 0.254 0.183 0.529 0.704 0.388 0.451 0.263\n",
            " 0.205 0.257 0.487 0.245 0.337 0.546 0.851 0.267 0.188 0.512 0.966 0.42\n",
            " 0.665 0.503 1.39  0.271 0.696 0.235 0.721 0.294 1.893 0.564 0.586 0.344\n",
            " 0.305 0.491 0.526 0.342 0.467 0.718 0.962 1.781 0.173 0.304 0.27  0.699\n",
            " 0.258 0.203 0.855 0.845 0.334 0.189 0.867 0.411 0.583 0.231 0.396 0.14\n",
            " 0.391 0.37  0.307 0.102 0.767 0.237 0.227 0.698 0.178 0.324 0.153 0.165\n",
            " 0.443 0.261 0.277 0.761 0.255 0.13  0.323 0.356 0.325 1.222 0.179 0.262\n",
            " 0.283 0.93  0.801 0.207 0.287 0.336 0.247 0.199 0.543 0.192 0.588 0.539\n",
            " 0.22  0.654 0.223 0.759 0.26  0.404 0.186 0.278 0.496 0.452 0.403 0.741\n",
            " 0.361 1.114 0.457 0.647 0.088 0.597 0.532 0.703 0.159 0.268 0.286 0.318\n",
            " 0.272 0.572 0.096 1.4   0.218 0.085 0.399 0.432 1.189 0.687 0.137 0.637\n",
            " 0.833 0.229 0.817 0.204 0.368 0.743 0.722 0.256 0.709 0.471 0.495 0.18\n",
            " 0.542 0.773 0.678 0.719 0.382 0.319 0.19  0.956 0.084 0.725 0.299 0.244\n",
            " 0.745 0.615 1.321 0.64  0.142 0.374 0.383 0.578 0.136 0.395 0.187 0.905\n",
            " 0.15  0.874 0.236 0.787 0.407 0.605 0.151 0.289 0.355 0.29  0.375 0.164\n",
            " 0.431 0.742 0.514 0.464 1.224 1.072 0.805 0.209 0.666 0.101 0.198 0.652\n",
            " 2.329 0.089 0.645 0.238 0.394 0.293 0.479 0.686 0.831 0.582 0.446 0.402\n",
            " 1.318 0.329 1.213 0.427 0.282 0.143 0.38  0.284 0.249 0.926 0.557 0.092\n",
            " 0.655 1.353 0.612 0.2   0.226 0.997 0.933 1.101 0.078 0.24  1.136 0.128\n",
            " 0.422 0.251 0.677 0.296 0.454 0.744 0.881 0.28  0.259 0.619 0.808 0.34\n",
            " 0.434 0.757 0.613 0.692 0.52  0.412 0.84  0.839 0.156 0.215 0.326 1.391\n",
            " 0.875 0.313 0.433 0.626 1.127 0.315 0.345 0.129 0.527 0.197 0.731 0.148\n",
            " 0.123 0.127 0.122 1.476 0.166 0.932 0.343 0.893 0.331 0.472 0.673 0.389\n",
            " 0.485 0.349 0.279 0.346 0.252 0.243 0.58  0.559 0.302 0.569 0.378 0.385\n",
            " 0.499 0.306 0.234 2.137 1.731 0.545 0.225 0.816 0.528 0.509 1.021 0.821\n",
            " 0.947 1.268 0.221 0.66  0.239 0.949 0.444 0.463 0.803 1.6   0.944 0.196\n",
            " 0.241 0.161 0.135 0.376 1.191 0.702 0.674 1.076 0.534 1.095 0.554 0.624\n",
            " 0.219 0.507 0.561 0.421 0.516 0.264 0.328 0.233 0.108 1.138 0.147 0.727\n",
            " 0.435 0.497 0.23  0.955 2.42  0.658 0.33  0.51  0.285 0.415 0.381 0.832\n",
            " 0.498 0.212 0.364 1.001 0.46  0.733 0.416 0.705 1.022 0.269 0.6   0.571\n",
            " 0.607 0.17  0.21  0.126 0.711 0.466 0.162 0.419 0.63  0.365 0.536 1.159\n",
            " 0.629 0.292 0.145 1.144 0.174 0.547 0.163 0.738 0.314 0.968 0.409 0.297\n",
            " 0.525 0.154 0.771 0.107 0.493 0.717 0.917 0.501 1.251 0.735 0.804 0.661\n",
            " 0.549 0.825 0.423 1.034 0.16  0.341 0.68  0.591 0.3   0.121 0.502 0.401\n",
            " 0.601 0.748 0.338 0.43  0.892 0.813 0.693 0.575 0.371 0.206 0.417 1.154\n",
            " 0.925 0.175 1.699 0.682 0.194 0.4   0.1   1.258 0.482 0.138 0.593 0.878\n",
            " 0.157 1.282 0.141 0.246 1.698 1.461 0.347 0.362 0.393 0.144 0.732 0.115\n",
            " 0.465 0.649 0.871 0.149 0.695 0.303 0.61  0.73  0.447 0.455 0.133 0.155\n",
            " 1.162 1.292 0.182 1.394 0.217 0.631 0.88  0.614 0.332 0.366 0.181 0.828\n",
            " 0.335 0.856 0.886 0.439 0.253 0.598 0.904 0.483 0.565 0.118 0.177 0.176\n",
            " 0.295 0.441 0.352 0.826 0.97  0.595 0.317 0.265 0.646 0.426 0.56  0.515\n",
            " 0.453 0.785 0.734 1.174 0.488 0.358 1.096 0.408 1.182 0.222 1.057 0.766\n",
            " 0.171]\n",
            "Age \n",
            " [50 31 32 21 33 30 26 29 53 54 34 57 59 51 27 41 43 22 38 60 28 45 35 46\n",
            " 56 37 48 40 25 24 58 42 44 39 36 23 61 69 62 55 65 47 52 66 49 63 67 72\n",
            " 81 64 70 68]\n",
            "Outcome \n",
            " [1 0]\n"
          ]
        }
      ]
    },
    {
      "cell_type": "markdown",
      "source": [
        "*  from this unique function we found that there is 0 present in many columns like Glucose, Blood Pressure,Skin Thickness, 'Insulin,BMI which doesn't make sense as this values can not be zero.\n",
        "\n",
        "* so we will replace the zeros with np.nan and make them   missing values and will further work upon them"
      ],
      "metadata": {
        "id": "f5_7hPAt1IWC"
      }
    },
    {
      "cell_type": "code",
      "source": [
        "column_to_replace_null = ['Glucose', 'Blood Pressure', 'Skin Thickness', 'Insulin',\n",
        "       'BMI']\n",
        "for i in column_to_replace_null:\n",
        "  diabetes[i] = diabetes[i].replace(0,np.NaN)"
      ],
      "metadata": {
        "id": "4doIGcGE0X0s"
      },
      "execution_count": 10,
      "outputs": []
    },
    {
      "cell_type": "code",
      "source": [
        "diabetes.isnull().sum()"
      ],
      "metadata": {
        "id": "Rebx19f306gj",
        "colab": {
          "base_uri": "https://localhost:8080/"
        },
        "outputId": "d1a638b5-9277-44df-cf9c-2a2eb3d65715"
      },
      "execution_count": 11,
      "outputs": [
        {
          "output_type": "execute_result",
          "data": {
            "text/plain": [
              "Pregnancies                     0\n",
              "Glucose                         5\n",
              "Blood Pressure                 35\n",
              "Skin Thickness                227\n",
              "Insulin                       374\n",
              "BMI                            11\n",
              "Diabetes Pedigree Function      0\n",
              "Age                             0\n",
              "Outcome                         0\n",
              "dtype: int64"
            ]
          },
          "metadata": {},
          "execution_count": 11
        }
      ]
    },
    {
      "cell_type": "markdown",
      "source": [
        "##**categorical or target column exploration**"
      ],
      "metadata": {
        "id": "sLUTlDkT2evK"
      }
    },
    {
      "cell_type": "code",
      "source": [
        "diabetes[\"Outcome\"].value_counts()"
      ],
      "metadata": {
        "colab": {
          "base_uri": "https://localhost:8080/"
        },
        "id": "3bj2M3xy23HC",
        "outputId": "70b2bdcb-48d4-4e16-b1ed-00a5158460d9"
      },
      "execution_count": 12,
      "outputs": [
        {
          "output_type": "execute_result",
          "data": {
            "text/plain": [
              "0    500\n",
              "1    268\n",
              "Name: Outcome, dtype: int64"
            ]
          },
          "metadata": {},
          "execution_count": 12
        }
      ]
    },
    {
      "cell_type": "markdown",
      "source": [
        "*   there are 500 non diabetic and 268 diabetic \n",
        "*   On the basis of diabetic and non-diabetic we will find the mean of all the columns to see weather the values of diabetic differs from non-diabetic or not\n",
        "*   for that we will group the dataset on the basis of Outcome column and then calculate the mean\n",
        "\n"
      ],
      "metadata": {
        "id": "Q2xmDno93b2w"
      }
    },
    {
      "cell_type": "code",
      "source": [
        "numerical_cols=['Pregnancies', 'Glucose', 'Blood Pressure', 'Skin Thickness', 'Insulin',\n",
        "       'BMI', 'Diabetes Pedigree Function', 'Age']"
      ],
      "metadata": {
        "id": "MNLBnGxj5C9w"
      },
      "execution_count": 13,
      "outputs": []
    },
    {
      "cell_type": "code",
      "source": [
        "for i in numerical_cols:\n",
        " print(i,\"\\n\\n\",diabetes.groupby(\"Outcome\")[i].mean(),\"\\n\")"
      ],
      "metadata": {
        "id": "UmSgc8B_3a6x",
        "colab": {
          "base_uri": "https://localhost:8080/"
        },
        "outputId": "8f976356-3241-4782-a467-02ac108d3600"
      },
      "execution_count": 14,
      "outputs": [
        {
          "output_type": "stream",
          "name": "stdout",
          "text": [
            "Pregnancies \n",
            "\n",
            " Outcome\n",
            "0    3.298000\n",
            "1    4.865672\n",
            "Name: Pregnancies, dtype: float64 \n",
            "\n",
            "Glucose \n",
            "\n",
            " Outcome\n",
            "0    110.643863\n",
            "1    142.319549\n",
            "Name: Glucose, dtype: float64 \n",
            "\n",
            "Blood Pressure \n",
            "\n",
            " Outcome\n",
            "0    70.877339\n",
            "1    75.321429\n",
            "Name: Blood Pressure, dtype: float64 \n",
            "\n",
            "Skin Thickness \n",
            "\n",
            " Outcome\n",
            "0    27.235457\n",
            "1    33.000000\n",
            "Name: Skin Thickness, dtype: float64 \n",
            "\n",
            "Insulin \n",
            "\n",
            " Outcome\n",
            "0    130.287879\n",
            "1    206.846154\n",
            "Name: Insulin, dtype: float64 \n",
            "\n",
            "BMI \n",
            "\n",
            " Outcome\n",
            "0    30.859674\n",
            "1    35.406767\n",
            "Name: BMI, dtype: float64 \n",
            "\n",
            "Diabetes Pedigree Function \n",
            "\n",
            " Outcome\n",
            "0    0.429734\n",
            "1    0.550500\n",
            "Name: Diabetes Pedigree Function, dtype: float64 \n",
            "\n",
            "Age \n",
            "\n",
            " Outcome\n",
            "0    31.190000\n",
            "1    37.067164\n",
            "Name: Age, dtype: float64 \n",
            "\n"
          ]
        }
      ]
    },
    {
      "cell_type": "markdown",
      "source": [
        "from this we can infer that there is change in mean of almost all the features of diabetic and non-diabetic patients   "
      ],
      "metadata": {
        "id": "N_oLjtUA5qBc"
      }
    },
    {
      "cell_type": "markdown",
      "source": [
        "\n",
        "*   PLOTTING THE GRAPHS WITH RESPECT TO OUTCOME VARIABLE    \n",
        "*   here we will plot the graphs of all the numerical columns with outcome variable to see the diffrence in both diabetic and non-diabetic population visually and also to see the distribution of data \n",
        "\n"
      ],
      "metadata": {
        "id": "IKwiUwjU6IDB"
      }
    },
    {
      "cell_type": "markdown",
      "source": [
        "using kde plots we will plot the graphs"
      ],
      "metadata": {
        "id": "2Kta-Brx7Sne"
      }
    },
    {
      "cell_type": "code",
      "source": [
        "for column in numerical_cols:    #iterating the columns\n",
        "  plt.figure(figsize=(13,6))    \n",
        "  sns.kdeplot(diabetes[column][diabetes[\"Outcome\"]==1],color=\"blue\",shade=True)\n",
        "  sns.kdeplot(diabetes[column][diabetes[\"Outcome\"]==0],color=\"red\",shade=True)\n",
        "  plt.legend(['Has Diabetes', 'Has no Diabetes'])\n",
        "  plt.xlim(-10,150)\n",
        "  plt.title(\"Diabetic Density of Numerical Variables\")\n",
        "  plt.show()"
      ],
      "metadata": {
        "colab": {
          "base_uri": "https://localhost:8080/",
          "height": 1000
        },
        "id": "rp4HoWWW6HY5",
        "outputId": "210c3aea-c0ab-4f20-ff2c-5f322b2e76eb"
      },
      "execution_count": 15,
      "outputs": [
        {
          "output_type": "display_data",
          "data": {
            "text/plain": [
              "<Figure size 936x432 with 1 Axes>"
            ],
            "image/png": "[encoded data removed]"
          },
          "metadata": {
            "needs_background": "light"
          }
        },
        {
          "output_type": "display_data",
          "data": {
            "text/plain": [
              "<Figure size 936x432 with 1 Axes>"
            ],
            "image/png": "[encoded data removed]"
          },
          "metadata": {
            "needs_background": "light"
          }
        },
        {
          "output_type": "display_data",
          "data": {
            "text/plain": [
              "<Figure size 936x432 with 1 Axes>"
            ],
            "image/png": "[encoded data removed]"
          },
          "metadata": {
            "needs_background": "light"
          }
        },
        {
          "output_type": "display_data",
          "data": {
            "text/plain": [
              "<Figure size 936x432 with 1 Axes>"
            ],
            "image/png": "[encoded data removed]"
          },
          "metadata": {
            "needs_background": "light"
          }
        },
        {
          "output_type": "display_data",
          "data": {
            "text/plain": [
              "<Figure size 936x432 with 1 Axes>"
            ],
            "image/png": "[encoded data removed]"
          },
          "metadata": {
            "needs_background": "light"
          }
        },
        {
          "output_type": "display_data",
          "data": {
            "text/plain": [
              "<Figure size 936x432 with 1 Axes>"
            ],
            "image/png": "[encoded data removed]"
          },
          "metadata": {
            "needs_background": "light"
          }
        },
        {
          "output_type": "display_data",
          "data": {
            "text/plain": [
              "<Figure size 936x432 with 1 Axes>"
            ],
            "image/png": "[encoded data removed]"
          },
          "metadata": {
            "needs_background": "light"
          }
        },
        {
          "output_type": "display_data",
          "data": {
            "text/plain": [
              "<Figure size 936x432 with 1 Axes>"
            ],
            "image/png": "[encoded data removed]"
          },
          "metadata": {
            "needs_background": "light"
          }
        }
      ]
    },
    {
      "cell_type": "markdown",
      "source": [
        "####observation from the graphs\n"
      ],
      "metadata": {
        "id": "8zBeQI1i8Izp"
      }
    },
    {
      "cell_type": "markdown",
      "source": [
        "1. Pregnacies column\n",
        " \n",
        "* the non-diabetic data is normally distributed and mostly lies in the range 0-5.\n",
        "* the diabetic data is bimodal.\n",
        "* from here we can see that diabetic population has more number of times pregnant.\n",
        "\n",
        "\n",
        "\n",
        "\n"
      ],
      "metadata": {
        "id": "ZLpOud_p8Tb9"
      }
    },
    {
      "cell_type": "markdown",
      "source": [
        "2. Glucose column\n",
        " \n",
        "* from here we can see that diabetic population has higher level of  glucose than non-diabetic population"
      ],
      "metadata": {
        "id": "cMb4mGc-9tyk"
      }
    },
    {
      "cell_type": "markdown",
      "source": [
        "3. blood pressure column\n",
        " \n",
        "* both the data is slightly skewed.\n",
        "* from here we can alse see that there is not much diffrence in blood pressure of both the population"
      ],
      "metadata": {
        "id": "m_bMW5fZ-OH9"
      }
    },
    {
      "cell_type": "markdown",
      "source": [
        "4. skin thickness column\n",
        " \n",
        "* both the data is skewed.\n",
        "* from here we can also see that diabetic population has higher skin thickness than non-diabetic "
      ],
      "metadata": {
        "id": "nS55mNGN-2y7"
      }
    },
    {
      "cell_type": "markdown",
      "source": [
        "5. Insulin column\n",
        " \n",
        "* both the data is  skewed.\n",
        "* from here we can also see that diabetic population has higher insulin values than non-diabetic"
      ],
      "metadata": {
        "id": "wh50XX06_3i4"
      }
    },
    {
      "cell_type": "markdown",
      "source": [
        "6. BMI column\n",
        " \n",
        "* both the data is  skewed.\n",
        "* from here we can also see that diabetic population has higher BMI values than non-diabetic"
      ],
      "metadata": {
        "id": "Ng5YY0HcAYlE"
      }
    },
    {
      "cell_type": "markdown",
      "source": [
        "7. diabetes pedigree column\n",
        "\n",
        "* both the data is slightly skewed.\n",
        "* from here we can alse see that there is not much diffrence in diabetes pedigree function of both the population"
      ],
      "metadata": {
        "id": "bXy8FvhfAoHy"
      }
    },
    {
      "cell_type": "markdown",
      "source": [
        "8. Age column\n",
        " \n",
        "* both the data is  skewed.\n",
        "* from here we can also see that diabetic population more lies in the age range of 30-60\n",
        "* more aged people are having more chances of diabetes "
      ],
      "metadata": {
        "id": "3gBo2oMFBIY8"
      }
    },
    {
      "cell_type": "markdown",
      "source": [
        "## **exploring missing values**"
      ],
      "metadata": {
        "id": "hUB0t1XeI-Ts"
      }
    },
    {
      "cell_type": "code",
      "source": [
        "diabetes.isnull().sum()"
      ],
      "metadata": {
        "id": "EXe-e6wqJIcQ",
        "colab": {
          "base_uri": "https://localhost:8080/"
        },
        "outputId": "8176ccb1-cdff-4a3f-8ab8-19fd01f977c3"
      },
      "execution_count": 16,
      "outputs": [
        {
          "output_type": "execute_result",
          "data": {
            "text/plain": [
              "Pregnancies                     0\n",
              "Glucose                         5\n",
              "Blood Pressure                 35\n",
              "Skin Thickness                227\n",
              "Insulin                       374\n",
              "BMI                            11\n",
              "Diabetes Pedigree Function      0\n",
              "Age                             0\n",
              "Outcome                         0\n",
              "dtype: int64"
            ]
          },
          "metadata": {},
          "execution_count": 16
        }
      ]
    },
    {
      "cell_type": "markdown",
      "source": [
        "we can also plot a graph to see the missing values using missing number library"
      ],
      "metadata": {
        "id": "HVoeDjnMLB14"
      }
    },
    {
      "cell_type": "code",
      "source": [
        "import missingno as msno\n",
        "msno.bar(diabetes,(10,5))\n",
        "plt.show()"
      ],
      "metadata": {
        "id": "NjTQhgwtLBKf",
        "colab": {
          "base_uri": "https://localhost:8080/",
          "height": 515
        },
        "outputId": "f2fe2c0f-2c7a-434d-eb52-cdf135b79a7d"
      },
      "execution_count": 17,
      "outputs": [
        {
          "output_type": "display_data",
          "data": {
            "text/plain": [
              "<Figure size 720x360 with 3 Axes>"
            ],
            "image/png": "[encoded data removed]"
          },
          "metadata": {
            "needs_background": "light"
          }
        }
      ]
    },
    {
      "cell_type": "markdown",
      "source": [
        "\n",
        "\n",
        "*  From the bar plot and isnull function we can infer that 5 columns have missing values\n",
        "*  insulin column have almost 50% data missing but we cannot remove this as we had already visualised using plots and see that insulin is also a factor associated with diabetes so we will fill these using advanced imputation techniques  \n",
        "\n",
        "\n",
        "\n"
      ],
      "metadata": {
        "id": "_uYzgyFYMCJm"
      }
    },
    {
      "cell_type": "markdown",
      "source": [
        "## **finding correlation between features**"
      ],
      "metadata": {
        "id": "smoD2-TKNJ2B"
      }
    },
    {
      "cell_type": "code",
      "source": [
        "corr_matrix = diabetes.corr()\n",
        "corr_matrix"
      ],
      "metadata": {
        "id": "yysOZ9_CNs1C",
        "colab": {
          "base_uri": "https://localhost:8080/",
          "height": 332
        },
        "outputId": "de0914c2-4592-492a-9a67-7fdb4715ac6e"
      },
      "execution_count": 18,
      "outputs": [
        {
          "output_type": "execute_result",
          "data": {
            "text/plain": [
              "                            Pregnancies   Glucose  Blood Pressure  \\\n",
              "Pregnancies                    1.000000  0.128135        0.214178   \n",
              "Glucose                        0.128135  1.000000        0.223192   \n",
              "Blood Pressure                 0.214178  0.223192        1.000000   \n",
              "Skin Thickness                 0.100239  0.228043        0.226839   \n",
              "Insulin                        0.082171  0.581186        0.098272   \n",
              "BMI                            0.021719  0.232771        0.289230   \n",
              "Diabetes Pedigree Function    -0.033523  0.137246       -0.002805   \n",
              "Age                            0.544341  0.267136        0.330107   \n",
              "Outcome                        0.221898  0.494650        0.170589   \n",
              "\n",
              "                            Skin Thickness   Insulin       BMI  \\\n",
              "Pregnancies                       0.100239  0.082171  0.021719   \n",
              "Glucose                           0.228043  0.581186  0.232771   \n",
              "Blood Pressure                    0.226839  0.098272  0.289230   \n",
              "Skin Thickness                    1.000000  0.184888  0.648214   \n",
              "Insulin                           0.184888  1.000000  0.228050   \n",
              "BMI                               0.648214  0.228050  1.000000   \n",
              "Diabetes Pedigree Function        0.115016  0.130395  0.155382   \n",
              "Age                               0.166816  0.220261  0.025841   \n",
              "Outcome                           0.259491  0.303454  0.313680   \n",
              "\n",
              "                            Diabetes Pedigree Function       Age   Outcome  \n",
              "Pregnancies                                  -0.033523  0.544341  0.221898  \n",
              "Glucose                                       0.137246  0.267136  0.494650  \n",
              "Blood Pressure                               -0.002805  0.330107  0.170589  \n",
              "Skin Thickness                                0.115016  0.166816  0.259491  \n",
              "Insulin                                       0.130395  0.220261  0.303454  \n",
              "BMI                                           0.155382  0.025841  0.313680  \n",
              "Diabetes Pedigree Function                    1.000000  0.033561  0.173844  \n",
              "Age                                           0.033561  1.000000  0.238356  \n",
              "Outcome                                       0.173844  0.238356  1.000000  "
            ],
            "text/html": [
              "\n",
              "  <div id=\"df-2c5afeab-eb22-4eae-837a-4254c44a2c00\">\n",
              "    <div class=\"colab-df-container\">\n",
              "      <div>\n",
              "<style scoped>\n",
              "    .dataframe tbody tr th:only-of-type {\n",
              "        vertical-align: middle;\n",
              "    }\n",
              "\n",
              "    .dataframe tbody tr th {\n",
              "        vertical-align: top;\n",
              "    }\n",
              "\n",
              "    .dataframe thead th {\n",
              "        text-align: right;\n",
              "    }\n",
              "</style>\n",
              "<table border=\"1\" class=\"dataframe\">\n",
              "  <thead>\n",
              "    <tr style=\"text-align: right;\">\n",
              "      <th></th>\n",
              "      <th>Pregnancies</th>\n",
              "      <th>Glucose</th>\n",
              "      <th>Blood Pressure</th>\n",
              "      <th>Skin Thickness</th>\n",
              "      <th>Insulin</th>\n",
              "      <th>BMI</th>\n",
              "      <th>Diabetes Pedigree Function</th>\n",
              "      <th>Age</th>\n",
              "      <th>Outcome</th>\n",
              "    </tr>\n",
              "  </thead>\n",
              "  <tbody>\n",
              "    <tr>\n",
              "      <th>Pregnancies</th>\n",
              "      <td>1.000000</td>\n",
              "      <td>0.128135</td>\n",
              "      <td>0.214178</td>\n",
              "      <td>0.100239</td>\n",
              "      <td>0.082171</td>\n",
              "      <td>0.021719</td>\n",
              "      <td>-0.033523</td>\n",
              "      <td>0.544341</td>\n",
              "      <td>0.221898</td>\n",
              "    </tr>\n",
              "    <tr>\n",
              "      <th>Glucose</th>\n",
              "      <td>0.128135</td>\n",
              "      <td>1.000000</td>\n",
              "      <td>0.223192</td>\n",
              "      <td>0.228043</td>\n",
              "      <td>0.581186</td>\n",
              "      <td>0.232771</td>\n",
              "      <td>0.137246</td>\n",
              "      <td>0.267136</td>\n",
              "      <td>0.494650</td>\n",
              "    </tr>\n",
              "    <tr>\n",
              "      <th>Blood Pressure</th>\n",
              "      <td>0.214178</td>\n",
              "      <td>0.223192</td>\n",
              "      <td>1.000000</td>\n",
              "      <td>0.226839</td>\n",
              "      <td>0.098272</td>\n",
              "      <td>0.289230</td>\n",
              "      <td>-0.002805</td>\n",
              "      <td>0.330107</td>\n",
              "      <td>0.170589</td>\n",
              "    </tr>\n",
              "    <tr>\n",
              "      <th>Skin Thickness</th>\n",
              "      <td>0.100239</td>\n",
              "      <td>0.228043</td>\n",
              "      <td>0.226839</td>\n",
              "      <td>1.000000</td>\n",
              "      <td>0.184888</td>\n",
              "      <td>0.648214</td>\n",
              "      <td>0.115016</td>\n",
              "      <td>0.166816</td>\n",
              "      <td>0.259491</td>\n",
              "    </tr>\n",
              "    <tr>\n",
              "      <th>Insulin</th>\n",
              "      <td>0.082171</td>\n",
              "      <td>0.581186</td>\n",
              "      <td>0.098272</td>\n",
              "      <td>0.184888</td>\n",
              "      <td>1.000000</td>\n",
              "      <td>0.228050</td>\n",
              "      <td>0.130395</td>\n",
              "      <td>0.220261</td>\n",
              "      <td>0.303454</td>\n",
              "    </tr>\n",
              "    <tr>\n",
              "      <th>BMI</th>\n",
              "      <td>0.021719</td>\n",
              "      <td>0.232771</td>\n",
              "      <td>0.289230</td>\n",
              "      <td>0.648214</td>\n",
              "      <td>0.228050</td>\n",
              "      <td>1.000000</td>\n",
              "      <td>0.155382</td>\n",
              "      <td>0.025841</td>\n",
              "      <td>0.313680</td>\n",
              "    </tr>\n",
              "    <tr>\n",
              "      <th>Diabetes Pedigree Function</th>\n",
              "      <td>-0.033523</td>\n",
              "      <td>0.137246</td>\n",
              "      <td>-0.002805</td>\n",
              "      <td>0.115016</td>\n",
              "      <td>0.130395</td>\n",
              "      <td>0.155382</td>\n",
              "      <td>1.000000</td>\n",
              "      <td>0.033561</td>\n",
              "      <td>0.173844</td>\n",
              "    </tr>\n",
              "    <tr>\n",
              "      <th>Age</th>\n",
              "      <td>0.544341</td>\n",
              "      <td>0.267136</td>\n",
              "      <td>0.330107</td>\n",
              "      <td>0.166816</td>\n",
              "      <td>0.220261</td>\n",
              "      <td>0.025841</td>\n",
              "      <td>0.033561</td>\n",
              "      <td>1.000000</td>\n",
              "      <td>0.238356</td>\n",
              "    </tr>\n",
              "    <tr>\n",
              "      <th>Outcome</th>\n",
              "      <td>0.221898</td>\n",
              "      <td>0.494650</td>\n",
              "      <td>0.170589</td>\n",
              "      <td>0.259491</td>\n",
              "      <td>0.303454</td>\n",
              "      <td>0.313680</td>\n",
              "      <td>0.173844</td>\n",
              "      <td>0.238356</td>\n",
              "      <td>1.000000</td>\n",
              "    </tr>\n",
              "  </tbody>\n",
              "</table>\n",
              "</div>\n",
              "      <button class=\"colab-df-convert\" onclick=\"convertToInteractive('df-2c5afeab-eb22-4eae-837a-4254c44a2c00')\"\n",
              "              title=\"Convert this dataframe to an interactive table.\"\n",
              "              style=\"display:none;\">\n",
              "        \n",
              "  <svg xmlns=\"http://www.w3.org/2000/svg\" height=\"24px\"viewBox=\"0 0 24 24\"\n",
              "       width=\"24px\">\n",
              "    <path d=\"M0 0h24v24H0V0z\" fill=\"none\"/>\n",
              "    <path d=\"M18.56 5.44l.94 2.06.94-2.06 2.06-.94-2.06-.94-.94-2.06-.94 2.06-2.06.94zm-11 1L8.5 8.5l.94-2.06 2.06-.94-2.06-.94L8.5 2.5l-.94 2.06-2.06.94zm10 10l.94 2.06.94-2.06 2.06-.94-2.06-.94-.94-2.06-.94 2.06-2.06.94z\"/><path d=\"M17.41 7.96l-1.37-1.37c-.4-.4-.92-.59-1.43-.59-.52 0-1.04.2-1.43.59L10.3 9.45l-7.72 7.72c-.78.78-.78 2.05 0 2.83L4 21.41c.39.39.9.59 1.41.59.51 0 1.02-.2 1.41-.59l7.78-7.78 2.81-2.81c.8-.78.8-2.07 0-2.86zM5.41 20L4 18.59l7.72-7.72 1.47 1.35L5.41 20z\"/>\n",
              "  </svg>\n",
              "      </button>\n",
              "      \n",
              "  <style>\n",
              "    .colab-df-container {\n",
              "      display:flex;\n",
              "      flex-wrap:wrap;\n",
              "      gap: 12px;\n",
              "    }\n",
              "\n",
              "    .colab-df-convert {\n",
              "      background-color: #E8F0FE;\n",
              "      border: none;\n",
              "      border-radius: 50%;\n",
              "      cursor: pointer;\n",
              "      display: none;\n",
              "      fill: #1967D2;\n",
              "      height: 32px;\n",
              "      padding: 0 0 0 0;\n",
              "      width: 32px;\n",
              "    }\n",
              "\n",
              "    .colab-df-convert:hover {\n",
              "      background-color: #E2EBFA;\n",
              "      box-shadow: 0px 1px 2px rgba(60, 64, 67, 0.3), 0px 1px 3px 1px rgba(60, 64, 67, 0.15);\n",
              "      fill: #174EA6;\n",
              "    }\n",
              "\n",
              "    [theme=dark] .colab-df-convert {\n",
              "      background-color: #3B4455;\n",
              "      fill: #D2E3FC;\n",
              "    }\n",
              "\n",
              "    [theme=dark] .colab-df-convert:hover {\n",
              "      background-color: #434B5C;\n",
              "      box-shadow: 0px 1px 3px 1px rgba(0, 0, 0, 0.15);\n",
              "      filter: drop-shadow(0px 1px 2px rgba(0, 0, 0, 0.3));\n",
              "      fill: #FFFFFF;\n",
              "    }\n",
              "  </style>\n",
              "\n",
              "      <script>\n",
              "        const buttonEl =\n",
              "          document.querySelector('#df-2c5afeab-eb22-4eae-837a-4254c44a2c00 button.colab-df-convert');\n",
              "        buttonEl.style.display =\n",
              "          google.colab.kernel.accessAllowed ? 'block' : 'none';\n",
              "\n",
              "        async function convertToInteractive(key) {\n",
              "          const element = document.querySelector('#df-2c5afeab-eb22-4eae-837a-4254c44a2c00');\n",
              "          const dataTable =\n",
              "            await google.colab.kernel.invokeFunction('convertToInteractive',\n",
              "                                                     [key], {});\n",
              "          if (!dataTable) return;\n",
              "\n",
              "          const docLinkHtml = 'Like what you see? Visit the ' +\n",
              "            '<a target=\"_blank\" href=https://colab.research.google.com/notebooks/data_table.ipynb>data table notebook</a>'\n",
              "            + ' to learn more about interactive tables.';\n",
              "          element.innerHTML = '';\n",
              "          dataTable['output_type'] = 'display_data';\n",
              "          await google.colab.output.renderOutput(dataTable, element);\n",
              "          const docLink = document.createElement('div');\n",
              "          docLink.innerHTML = docLinkHtml;\n",
              "          element.appendChild(docLink);\n",
              "        }\n",
              "      </script>\n",
              "    </div>\n",
              "  </div>\n",
              "  "
            ]
          },
          "metadata": {},
          "execution_count": 18
        }
      ]
    },
    {
      "cell_type": "markdown",
      "source": [
        "we will see this in a better way using heatmap"
      ],
      "metadata": {
        "id": "1JE7CvO3N-hb"
      }
    },
    {
      "cell_type": "code",
      "source": [
        "#### correlation of all the columns with outcome variable\n",
        "corr_matrix = diabetes.corr()\n",
        "corr_matrix[\"Outcome\"].sort_values(ascending=False)"
      ],
      "metadata": {
        "colab": {
          "base_uri": "https://localhost:8080/"
        },
        "id": "K8k2QIemNXcn",
        "outputId": "1d30aab5-c290-4751-8149-0c4487ea2cd7"
      },
      "execution_count": 19,
      "outputs": [
        {
          "output_type": "execute_result",
          "data": {
            "text/plain": [
              "Outcome                       1.000000\n",
              "Glucose                       0.494650\n",
              "BMI                           0.313680\n",
              "Insulin                       0.303454\n",
              "Skin Thickness                0.259491\n",
              "Age                           0.238356\n",
              "Pregnancies                   0.221898\n",
              "Diabetes Pedigree Function    0.173844\n",
              "Blood Pressure                0.170589\n",
              "Name: Outcome, dtype: float64"
            ]
          },
          "metadata": {},
          "execution_count": 19
        }
      ]
    },
    {
      "cell_type": "code",
      "source": [
        "sns.heatmap(corr_matrix,annot=True)\n",
        "plt.show()"
      ],
      "metadata": {
        "id": "g9_aAkXaO9R1",
        "colab": {
          "base_uri": "https://localhost:8080/",
          "height": 396
        },
        "outputId": "0634e33b-bbd4-407d-c4d7-83f7cfe1237e"
      },
      "execution_count": 20,
      "outputs": [
        {
          "output_type": "display_data",
          "data": {
            "text/plain": [
              "<Figure size 432x288 with 2 Axes>"
            ],
            "image/png": "[encoded data removed]"
          },
          "metadata": {
            "needs_background": "light"
          }
        }
      ]
    },
    {
      "cell_type": "markdown",
      "source": [
        "from this we can infer that Glucose insulin and BMI are more correlated with outcome variable"
      ],
      "metadata": {
        "id": "KBvS6VFqPivq"
      }
    },
    {
      "cell_type": "markdown",
      "source": [
        "## **filling missing values**"
      ],
      "metadata": {
        "id": "Miebzbq9QhBH"
      }
    },
    {
      "cell_type": "code",
      "source": [
        "diabetes.isnull().sum()"
      ],
      "metadata": {
        "colab": {
          "base_uri": "https://localhost:8080/"
        },
        "id": "_1RLsqHuQz_a",
        "outputId": "937c6e5a-60ac-43c9-8e61-c1ca651467e7"
      },
      "execution_count": 21,
      "outputs": [
        {
          "output_type": "execute_result",
          "data": {
            "text/plain": [
              "Pregnancies                     0\n",
              "Glucose                         5\n",
              "Blood Pressure                 35\n",
              "Skin Thickness                227\n",
              "Insulin                       374\n",
              "BMI                            11\n",
              "Diabetes Pedigree Function      0\n",
              "Age                             0\n",
              "Outcome                         0\n",
              "dtype: int64"
            ]
          },
          "metadata": {},
          "execution_count": 21
        }
      ]
    },
    {
      "cell_type": "markdown",
      "source": [
        "Glucose  , Blood Pressure and BMI has less number of missing values and that data is skewed so we will fill these columns using median"
      ],
      "metadata": {
        "id": "TR2KMIYfRLWD"
      }
    },
    {
      "cell_type": "code",
      "source": [
        "diabetes[\"Glucose\"] = diabetes[\"Glucose\"].fillna(diabetes[\"Glucose\"].median())\n",
        "diabetes[\"Blood Pressure\"] = diabetes[\"Blood Pressure\"].fillna(diabetes[\"Blood Pressure\"].median())\n",
        "diabetes[\"BMI\"] = diabetes[\"BMI\"].fillna(diabetes[\"BMI\"].median())"
      ],
      "metadata": {
        "id": "G1Dxh52KRKO2"
      },
      "execution_count": 22,
      "outputs": []
    },
    {
      "cell_type": "code",
      "source": [
        "diabetes2=diabetes   ### copying the dataset"
      ],
      "metadata": {
        "id": "cKOLX3TAR9IC"
      },
      "execution_count": 23,
      "outputs": []
    },
    {
      "cell_type": "markdown",
      "source": [
        "skin thickness and insulin column has more missing values so we will use knn imputation for filling these"
      ],
      "metadata": {
        "id": "5NxdTY8PSgbT"
      }
    },
    {
      "cell_type": "code",
      "source": [
        "diabetes.isnull().sum()"
      ],
      "metadata": {
        "colab": {
          "base_uri": "https://localhost:8080/"
        },
        "id": "lukwPnjPTvDB",
        "outputId": "de09eaa1-6022-44d8-f434-5beaebdd0732"
      },
      "execution_count": 24,
      "outputs": [
        {
          "output_type": "execute_result",
          "data": {
            "text/plain": [
              "Pregnancies                     0\n",
              "Glucose                         0\n",
              "Blood Pressure                  0\n",
              "Skin Thickness                227\n",
              "Insulin                       374\n",
              "BMI                             0\n",
              "Diabetes Pedigree Function      0\n",
              "Age                             0\n",
              "Outcome                         0\n",
              "dtype: int64"
            ]
          },
          "metadata": {},
          "execution_count": 24
        }
      ]
    },
    {
      "cell_type": "code",
      "source": [
        "from sklearn.impute import KNNImputer\n",
        "knn_imputer = KNNImputer(n_neighbors=5)\n",
        "diabetes_knn = diabetes.copy(deep=True)\n",
        "diabetes_knn.iloc[:, :] = knn_imputer.fit_transform(diabetes_knn)"
      ],
      "metadata": {
        "id": "Sjuq_lmWSNfY"
      },
      "execution_count": 25,
      "outputs": []
    },
    {
      "cell_type": "code",
      "source": [
        "### created copy of the dataset as diabetes_knn and checking the final dataset\n",
        "diabetes_knn.isnull().sum()"
      ],
      "metadata": {
        "colab": {
          "base_uri": "https://localhost:8080/"
        },
        "id": "vPPxbDVpUgWE",
        "outputId": "72f0fa21-f649-4a96-a213-df561b394eaa"
      },
      "execution_count": 26,
      "outputs": [
        {
          "output_type": "execute_result",
          "data": {
            "text/plain": [
              "Pregnancies                   0\n",
              "Glucose                       0\n",
              "Blood Pressure                0\n",
              "Skin Thickness                0\n",
              "Insulin                       0\n",
              "BMI                           0\n",
              "Diabetes Pedigree Function    0\n",
              "Age                           0\n",
              "Outcome                       0\n",
              "dtype: int64"
            ]
          },
          "metadata": {},
          "execution_count": 26
        }
      ]
    },
    {
      "cell_type": "markdown",
      "source": [
        "#**FEATURE** **ENGINEERING**"
      ],
      "metadata": {
        "id": "02BZXjNHta4B"
      }
    },
    {
      "cell_type": "markdown",
      "source": [
        "## **Outlier** **finding** **and** **transformation** "
      ],
      "metadata": {
        "id": "7rzAhnGxWkz6"
      }
    },
    {
      "cell_type": "markdown",
      "source": [
        "checking the outliers using box plot\n",
        "\n",
        "\n"
      ],
      "metadata": {
        "id": "FO8V3rbiWkz7"
      }
    },
    {
      "cell_type": "code",
      "source": [
        "for i in numerical_cols:\n",
        "  print(\"\\n\",i,\"\\n\")\n",
        "  sns.boxplot(x=diabetes_knn[i])\n",
        "  plt.plot()\n",
        "  plt.show()"
      ],
      "metadata": {
        "id": "hXBl09WXWkz8",
        "colab": {
          "base_uri": "https://localhost:8080/",
          "height": 1000
        },
        "outputId": "a91a0e1d-d62b-449e-88b1-910fe2c1e9b5"
      },
      "execution_count": 27,
      "outputs": [
        {
          "output_type": "stream",
          "name": "stdout",
          "text": [
            "\n",
            " Pregnancies \n",
            "\n"
          ]
        },
        {
          "output_type": "display_data",
          "data": {
            "text/plain": [
              "<Figure size 432x288 with 1 Axes>"
            ],
            "image/png": "[encoded data removed]"
          },
          "metadata": {
            "needs_background": "light"
          }
        },
        {
          "output_type": "stream",
          "name": "stdout",
          "text": [
            "\n",
            " Glucose \n",
            "\n"
          ]
        },
        {
          "output_type": "display_data",
          "data": {
            "text/plain": [
              "<Figure size 432x288 with 1 Axes>"
            ],
            "image/png": "[encoded data removed]"
          },
          "metadata": {
            "needs_background": "light"
          }
        },
        {
          "output_type": "stream",
          "name": "stdout",
          "text": [
            "\n",
            " Blood Pressure \n",
            "\n"
          ]
        },
        {
          "output_type": "display_data",
          "data": {
            "text/plain": [
              "<Figure size 432x288 with 1 Axes>"
            ],
            "image/png": "[encoded data removed]"
          },
          "metadata": {
            "needs_background": "light"
          }
        },
        {
          "output_type": "stream",
          "name": "stdout",
          "text": [
            "\n",
            " Skin Thickness \n",
            "\n"
          ]
        },
        {
          "output_type": "display_data",
          "data": {
            "text/plain": [
              "<Figure size 432x288 with 1 Axes>"
            ],
            "image/png": "[encoded data removed]"
          },
          "metadata": {
            "needs_background": "light"
          }
        },
        {
          "output_type": "stream",
          "name": "stdout",
          "text": [
            "\n",
            " Insulin \n",
            "\n"
          ]
        },
        {
          "output_type": "display_data",
          "data": {
            "text/plain": [
              "<Figure size 432x288 with 1 Axes>"
            ],
            "image/png": "[encoded data removed]"
          },
          "metadata": {
            "needs_background": "light"
          }
        },
        {
          "output_type": "stream",
          "name": "stdout",
          "text": [
            "\n",
            " BMI \n",
            "\n"
          ]
        },
        {
          "output_type": "display_data",
          "data": {
            "text/plain": [
              "<Figure size 432x288 with 1 Axes>"
            ],
            "image/png": "[encoded data removed]"
          },
          "metadata": {
            "needs_background": "light"
          }
        },
        {
          "output_type": "stream",
          "name": "stdout",
          "text": [
            "\n",
            " Diabetes Pedigree Function \n",
            "\n"
          ]
        },
        {
          "output_type": "display_data",
          "data": {
            "text/plain": [
              "<Figure size 432x288 with 1 Axes>"
            ],
            "image/png": "[encoded data removed]"
          },
          "metadata": {
            "needs_background": "light"
          }
        },
        {
          "output_type": "stream",
          "name": "stdout",
          "text": [
            "\n",
            " Age \n",
            "\n"
          ]
        },
        {
          "output_type": "display_data",
          "data": {
            "text/plain": [
              "<Figure size 432x288 with 1 Axes>"
            ],
            "image/png": "[encoded data removed]"
          },
          "metadata": {
            "needs_background": "light"
          }
        }
      ]
    },
    {
      "cell_type": "markdown",
      "source": [
        "from these blox plot we can see that there are outliers present in all the columns except glucose column"
      ],
      "metadata": {
        "id": "lbKE0DASWkz9"
      }
    },
    {
      "cell_type": "markdown",
      "source": [
        "now, we will transform the data using IQR method"
      ],
      "metadata": {
        "id": "fBc-jcT-Wkz-"
      }
    },
    {
      "cell_type": "code",
      "source": [
        "###########    Function for getting upper and lower limit of the columns\n",
        "def upper_and_lower_limit(dataframe, col_name, q1=0.25, q3=0.75):\n",
        "    quartile1 = dataframe[col_name].quantile(q1)\n",
        "    quartile3 = dataframe[col_name].quantile(q3)\n",
        "    interquantile_range = quartile3 - quartile1\n",
        "    up_limit = quartile3 + 1.5 * interquantile_range\n",
        "    low_limit = quartile1 - 1.5 * interquantile_range\n",
        "    return low_limit, up_limit"
      ],
      "metadata": {
        "id": "DzgZr1mrWkz_"
      },
      "execution_count": 28,
      "outputs": []
    },
    {
      "cell_type": "code",
      "source": [
        "#### function for replacing outliers using iqr  \n",
        "def replace_outliers(dataframe, variable):\n",
        "    low_limit, up_limit = upper_and_lower_limit(dataframe, variable)\n",
        "    dataframe.loc[(dataframe[variable] < low_limit), variable] = low_limit\n",
        "    dataframe.loc[(dataframe[variable] > up_limit), variable] = up_limit"
      ],
      "metadata": {
        "id": "uvO_S2C7Wkz_"
      },
      "execution_count": 29,
      "outputs": []
    },
    {
      "cell_type": "code",
      "source": [
        "#### replacing the outliers\n",
        "for i in numerical_cols:\n",
        "  replace_outliers(diabetes_knn,i)"
      ],
      "metadata": {
        "id": "J_cxomTHWk0A"
      },
      "execution_count": 30,
      "outputs": []
    },
    {
      "cell_type": "markdown",
      "source": [
        "if we again plot the boxplot and see the outliers are being removed and data is transformed"
      ],
      "metadata": {
        "id": "Kf7DYW1mWk0B"
      }
    },
    {
      "cell_type": "code",
      "source": [
        "for i in numerical_cols:\n",
        "  print(\"\\n\",i,\"\\n\")\n",
        "  sns.boxplot(x=diabetes_knn[i])\n",
        "  plt.plot()\n",
        "  plt.show()"
      ],
      "metadata": {
        "id": "lx-WVA3UWk0B",
        "colab": {
          "base_uri": "https://localhost:8080/",
          "height": 1000
        },
        "outputId": "5123411f-a784-4c62-fd2f-ea5bd5488ec6"
      },
      "execution_count": 31,
      "outputs": [
        {
          "output_type": "stream",
          "name": "stdout",
          "text": [
            "\n",
            " Pregnancies \n",
            "\n"
          ]
        },
        {
          "output_type": "display_data",
          "data": {
            "text/plain": [
              "<Figure size 432x288 with 1 Axes>"
            ],
            "image/png": "[encoded data removed]"
          },
          "metadata": {
            "needs_background": "light"
          }
        },
        {
          "output_type": "stream",
          "name": "stdout",
          "text": [
            "\n",
            " Glucose \n",
            "\n"
          ]
        },
        {
          "output_type": "display_data",
          "data": {
            "text/plain": [
              "<Figure size 432x288 with 1 Axes>"
            ],
            "image/png": "[encoded data removed]"
          },
          "metadata": {
            "needs_background": "light"
          }
        },
        {
          "output_type": "stream",
          "name": "stdout",
          "text": [
            "\n",
            " Blood Pressure \n",
            "\n"
          ]
        },
        {
          "output_type": "display_data",
          "data": {
            "text/plain": [
              "<Figure size 432x288 with 1 Axes>"
            ],
            "image/png": "[encoded data removed]"
          },
          "metadata": {
            "needs_background": "light"
          }
        },
        {
          "output_type": "stream",
          "name": "stdout",
          "text": [
            "\n",
            " Skin Thickness \n",
            "\n"
          ]
        },
        {
          "output_type": "display_data",
          "data": {
            "text/plain": [
              "<Figure size 432x288 with 1 Axes>"
            ],
            "image/png": "[encoded data removed]"
          },
          "metadata": {
            "needs_background": "light"
          }
        },
        {
          "output_type": "stream",
          "name": "stdout",
          "text": [
            "\n",
            " Insulin \n",
            "\n"
          ]
        },
        {
          "output_type": "display_data",
          "data": {
            "text/plain": [
              "<Figure size 432x288 with 1 Axes>"
            ],
            "image/png": "[encoded data removed]"
          },
          "metadata": {
            "needs_background": "light"
          }
        },
        {
          "output_type": "stream",
          "name": "stdout",
          "text": [
            "\n",
            " BMI \n",
            "\n"
          ]
        },
        {
          "output_type": "display_data",
          "data": {
            "text/plain": [
              "<Figure size 432x288 with 1 Axes>"
            ],
            "image/png": "[encoded data removed]"
          },
          "metadata": {
            "needs_background": "light"
          }
        },
        {
          "output_type": "stream",
          "name": "stdout",
          "text": [
            "\n",
            " Diabetes Pedigree Function \n",
            "\n"
          ]
        },
        {
          "output_type": "display_data",
          "data": {
            "text/plain": [
              "<Figure size 432x288 with 1 Axes>"
            ],
            "image/png": "[encoded data removed]"
          },
          "metadata": {
            "needs_background": "light"
          }
        },
        {
          "output_type": "stream",
          "name": "stdout",
          "text": [
            "\n",
            " Age \n",
            "\n"
          ]
        },
        {
          "output_type": "display_data",
          "data": {
            "text/plain": [
              "<Figure size 432x288 with 1 Axes>"
            ],
            "image/png": "[encoded data removed]"
          },
          "metadata": {
            "needs_background": "light"
          }
        }
      ]
    },
    {
      "cell_type": "markdown",
      "source": [
        "# **FEATURE** **SCALING**"
      ],
      "metadata": {
        "id": "nS23ydyGtpmh"
      }
    },
    {
      "cell_type": "code",
      "source": [
        "diabetes_knn.head(1)"
      ],
      "metadata": {
        "colab": {
          "base_uri": "https://localhost:8080/",
          "height": 81
        },
        "id": "3EfJFnIHYxMk",
        "outputId": "59c427d7-f459-41b7-c384-1b884fbe0398"
      },
      "execution_count": 32,
      "outputs": [
        {
          "output_type": "execute_result",
          "data": {
            "text/plain": [
              "   Pregnancies  Glucose  Blood Pressure  Skin Thickness  Insulin   BMI  \\\n",
              "0          6.0    148.0            72.0            35.0    169.0  33.6   \n",
              "\n",
              "   Diabetes Pedigree Function   Age  Outcome  \n",
              "0                       0.627  50.0      1.0  "
            ],
            "text/html": [
              "\n",
              "  <div id=\"df-e5bb1596-460e-4801-9763-ca15587355ac\">\n",
              "    <div class=\"colab-df-container\">\n",
              "      <div>\n",
              "<style scoped>\n",
              "    .dataframe tbody tr th:only-of-type {\n",
              "        vertical-align: middle;\n",
              "    }\n",
              "\n",
              "    .dataframe tbody tr th {\n",
              "        vertical-align: top;\n",
              "    }\n",
              "\n",
              "    .dataframe thead th {\n",
              "        text-align: right;\n",
              "    }\n",
              "</style>\n",
              "<table border=\"1\" class=\"dataframe\">\n",
              "  <thead>\n",
              "    <tr style=\"text-align: right;\">\n",
              "      <th></th>\n",
              "      <th>Pregnancies</th>\n",
              "      <th>Glucose</th>\n",
              "      <th>Blood Pressure</th>\n",
              "      <th>Skin Thickness</th>\n",
              "      <th>Insulin</th>\n",
              "      <th>BMI</th>\n",
              "      <th>Diabetes Pedigree Function</th>\n",
              "      <th>Age</th>\n",
              "      <th>Outcome</th>\n",
              "    </tr>\n",
              "  </thead>\n",
              "  <tbody>\n",
              "    <tr>\n",
              "      <th>0</th>\n",
              "      <td>6.0</td>\n",
              "      <td>148.0</td>\n",
              "      <td>72.0</td>\n",
              "      <td>35.0</td>\n",
              "      <td>169.0</td>\n",
              "      <td>33.6</td>\n",
              "      <td>0.627</td>\n",
              "      <td>50.0</td>\n",
              "      <td>1.0</td>\n",
              "    </tr>\n",
              "  </tbody>\n",
              "</table>\n",
              "</div>\n",
              "      <button class=\"colab-df-convert\" onclick=\"convertToInteractive('df-e5bb1596-460e-4801-9763-ca15587355ac')\"\n",
              "              title=\"Convert this dataframe to an interactive table.\"\n",
              "              style=\"display:none;\">\n",
              "        \n",
              "  <svg xmlns=\"http://www.w3.org/2000/svg\" height=\"24px\"viewBox=\"0 0 24 24\"\n",
              "       width=\"24px\">\n",
              "    <path d=\"M0 0h24v24H0V0z\" fill=\"none\"/>\n",
              "    <path d=\"M18.56 5.44l.94 2.06.94-2.06 2.06-.94-2.06-.94-.94-2.06-.94 2.06-2.06.94zm-11 1L8.5 8.5l.94-2.06 2.06-.94-2.06-.94L8.5 2.5l-.94 2.06-2.06.94zm10 10l.94 2.06.94-2.06 2.06-.94-2.06-.94-.94-2.06-.94 2.06-2.06.94z\"/><path d=\"M17.41 7.96l-1.37-1.37c-.4-.4-.92-.59-1.43-.59-.52 0-1.04.2-1.43.59L10.3 9.45l-7.72 7.72c-.78.78-.78 2.05 0 2.83L4 21.41c.39.39.9.59 1.41.59.51 0 1.02-.2 1.41-.59l7.78-7.78 2.81-2.81c.8-.78.8-2.07 0-2.86zM5.41 20L4 18.59l7.72-7.72 1.47 1.35L5.41 20z\"/>\n",
              "  </svg>\n",
              "      </button>\n",
              "      \n",
              "  <style>\n",
              "    .colab-df-container {\n",
              "      display:flex;\n",
              "      flex-wrap:wrap;\n",
              "      gap: 12px;\n",
              "    }\n",
              "\n",
              "    .colab-df-convert {\n",
              "      background-color: #E8F0FE;\n",
              "      border: none;\n",
              "      border-radius: 50%;\n",
              "      cursor: pointer;\n",
              "      display: none;\n",
              "      fill: #1967D2;\n",
              "      height: 32px;\n",
              "      padding: 0 0 0 0;\n",
              "      width: 32px;\n",
              "    }\n",
              "\n",
              "    .colab-df-convert:hover {\n",
              "      background-color: #E2EBFA;\n",
              "      box-shadow: 0px 1px 2px rgba(60, 64, 67, 0.3), 0px 1px 3px 1px rgba(60, 64, 67, 0.15);\n",
              "      fill: #174EA6;\n",
              "    }\n",
              "\n",
              "    [theme=dark] .colab-df-convert {\n",
              "      background-color: #3B4455;\n",
              "      fill: #D2E3FC;\n",
              "    }\n",
              "\n",
              "    [theme=dark] .colab-df-convert:hover {\n",
              "      background-color: #434B5C;\n",
              "      box-shadow: 0px 1px 3px 1px rgba(0, 0, 0, 0.15);\n",
              "      filter: drop-shadow(0px 1px 2px rgba(0, 0, 0, 0.3));\n",
              "      fill: #FFFFFF;\n",
              "    }\n",
              "  </style>\n",
              "\n",
              "      <script>\n",
              "        const buttonEl =\n",
              "          document.querySelector('#df-e5bb1596-460e-4801-9763-ca15587355ac button.colab-df-convert');\n",
              "        buttonEl.style.display =\n",
              "          google.colab.kernel.accessAllowed ? 'block' : 'none';\n",
              "\n",
              "        async function convertToInteractive(key) {\n",
              "          const element = document.querySelector('#df-e5bb1596-460e-4801-9763-ca15587355ac');\n",
              "          const dataTable =\n",
              "            await google.colab.kernel.invokeFunction('convertToInteractive',\n",
              "                                                     [key], {});\n",
              "          if (!dataTable) return;\n",
              "\n",
              "          const docLinkHtml = 'Like what you see? Visit the ' +\n",
              "            '<a target=\"_blank\" href=https://colab.research.google.com/notebooks/data_table.ipynb>data table notebook</a>'\n",
              "            + ' to learn more about interactive tables.';\n",
              "          element.innerHTML = '';\n",
              "          dataTable['output_type'] = 'display_data';\n",
              "          await google.colab.output.renderOutput(dataTable, element);\n",
              "          const docLink = document.createElement('div');\n",
              "          docLink.innerHTML = docLinkHtml;\n",
              "          element.appendChild(docLink);\n",
              "        }\n",
              "      </script>\n",
              "    </div>\n",
              "  </div>\n",
              "  "
            ]
          },
          "metadata": {},
          "execution_count": 32
        }
      ]
    },
    {
      "cell_type": "code",
      "source": [
        "#### creating X and Y variables    \n",
        "X = diabetes_knn.iloc[:, :-1]\n",
        "X"
      ],
      "metadata": {
        "id": "s5PTnl4GYDzi",
        "colab": {
          "base_uri": "https://localhost:8080/",
          "height": 424
        },
        "outputId": "ee06cebf-4f9d-4d11-bcee-d10ca79397da"
      },
      "execution_count": 33,
      "outputs": [
        {
          "output_type": "execute_result",
          "data": {
            "text/plain": [
              "     Pregnancies  Glucose  Blood Pressure  Skin Thickness  Insulin   BMI  \\\n",
              "0            6.0    148.0            72.0            35.0    169.0  33.6   \n",
              "1            1.0     85.0            66.0            29.0     58.6  26.6   \n",
              "2            8.0    183.0            64.0            25.8    164.6  23.3   \n",
              "3            1.0     89.0            66.0            23.0     94.0  28.1   \n",
              "4            0.0    137.0            40.0            35.0    168.0  43.1   \n",
              "..           ...      ...             ...             ...      ...   ...   \n",
              "763         10.0    101.0            76.0            48.0    180.0  32.9   \n",
              "764          2.0    122.0            70.0            27.0    165.0  36.8   \n",
              "765          5.0    121.0            72.0            23.0    112.0  26.2   \n",
              "766          1.0    126.0            60.0            35.2    134.2  30.1   \n",
              "767          1.0     93.0            70.0            31.0     66.6  30.4   \n",
              "\n",
              "     Diabetes Pedigree Function   Age  \n",
              "0                         0.627  50.0  \n",
              "1                         0.351  31.0  \n",
              "2                         0.672  32.0  \n",
              "3                         0.167  21.0  \n",
              "4                         1.200  33.0  \n",
              "..                          ...   ...  \n",
              "763                       0.171  63.0  \n",
              "764                       0.340  27.0  \n",
              "765                       0.245  30.0  \n",
              "766                       0.349  47.0  \n",
              "767                       0.315  23.0  \n",
              "\n",
              "[768 rows x 8 columns]"
            ],
            "text/html": [
              "\n",
              "  <div id=\"df-4f333cdf-12e1-4403-9ad6-4e215eec42c7\">\n",
              "    <div class=\"colab-df-container\">\n",
              "      <div>\n",
              "<style scoped>\n",
              "    .dataframe tbody tr th:only-of-type {\n",
              "        vertical-align: middle;\n",
              "    }\n",
              "\n",
              "    .dataframe tbody tr th {\n",
              "        vertical-align: top;\n",
              "    }\n",
              "\n",
              "    .dataframe thead th {\n",
              "        text-align: right;\n",
              "    }\n",
              "</style>\n",
              "<table border=\"1\" class=\"dataframe\">\n",
              "  <thead>\n",
              "    <tr style=\"text-align: right;\">\n",
              "      <th></th>\n",
              "      <th>Pregnancies</th>\n",
              "      <th>Glucose</th>\n",
              "      <th>Blood Pressure</th>\n",
              "      <th>Skin Thickness</th>\n",
              "      <th>Insulin</th>\n",
              "      <th>BMI</th>\n",
              "      <th>Diabetes Pedigree Function</th>\n",
              "      <th>Age</th>\n",
              "    </tr>\n",
              "  </thead>\n",
              "  <tbody>\n",
              "    <tr>\n",
              "      <th>0</th>\n",
              "      <td>6.0</td>\n",
              "      <td>148.0</td>\n",
              "      <td>72.0</td>\n",
              "      <td>35.0</td>\n",
              "      <td>169.0</td>\n",
              "      <td>33.6</td>\n",
              "      <td>0.627</td>\n",
              "      <td>50.0</td>\n",
              "    </tr>\n",
              "    <tr>\n",
              "      <th>1</th>\n",
              "      <td>1.0</td>\n",
              "      <td>85.0</td>\n",
              "      <td>66.0</td>\n",
              "      <td>29.0</td>\n",
              "      <td>58.6</td>\n",
              "      <td>26.6</td>\n",
              "      <td>0.351</td>\n",
              "      <td>31.0</td>\n",
              "    </tr>\n",
              "    <tr>\n",
              "      <th>2</th>\n",
              "      <td>8.0</td>\n",
              "      <td>183.0</td>\n",
              "      <td>64.0</td>\n",
              "      <td>25.8</td>\n",
              "      <td>164.6</td>\n",
              "      <td>23.3</td>\n",
              "      <td>0.672</td>\n",
              "      <td>32.0</td>\n",
              "    </tr>\n",
              "    <tr>\n",
              "      <th>3</th>\n",
              "      <td>1.0</td>\n",
              "      <td>89.0</td>\n",
              "      <td>66.0</td>\n",
              "      <td>23.0</td>\n",
              "      <td>94.0</td>\n",
              "      <td>28.1</td>\n",
              "      <td>0.167</td>\n",
              "      <td>21.0</td>\n",
              "    </tr>\n",
              "    <tr>\n",
              "      <th>4</th>\n",
              "      <td>0.0</td>\n",
              "      <td>137.0</td>\n",
              "      <td>40.0</td>\n",
              "      <td>35.0</td>\n",
              "      <td>168.0</td>\n",
              "      <td>43.1</td>\n",
              "      <td>1.200</td>\n",
              "      <td>33.0</td>\n",
              "    </tr>\n",
              "    <tr>\n",
              "      <th>...</th>\n",
              "      <td>...</td>\n",
              "      <td>...</td>\n",
              "      <td>...</td>\n",
              "      <td>...</td>\n",
              "      <td>...</td>\n",
              "      <td>...</td>\n",
              "      <td>...</td>\n",
              "      <td>...</td>\n",
              "    </tr>\n",
              "    <tr>\n",
              "      <th>763</th>\n",
              "      <td>10.0</td>\n",
              "      <td>101.0</td>\n",
              "      <td>76.0</td>\n",
              "      <td>48.0</td>\n",
              "      <td>180.0</td>\n",
              "      <td>32.9</td>\n",
              "      <td>0.171</td>\n",
              "      <td>63.0</td>\n",
              "    </tr>\n",
              "    <tr>\n",
              "      <th>764</th>\n",
              "      <td>2.0</td>\n",
              "      <td>122.0</td>\n",
              "      <td>70.0</td>\n",
              "      <td>27.0</td>\n",
              "      <td>165.0</td>\n",
              "      <td>36.8</td>\n",
              "      <td>0.340</td>\n",
              "      <td>27.0</td>\n",
              "    </tr>\n",
              "    <tr>\n",
              "      <th>765</th>\n",
              "      <td>5.0</td>\n",
              "      <td>121.0</td>\n",
              "      <td>72.0</td>\n",
              "      <td>23.0</td>\n",
              "      <td>112.0</td>\n",
              "      <td>26.2</td>\n",
              "      <td>0.245</td>\n",
              "      <td>30.0</td>\n",
              "    </tr>\n",
              "    <tr>\n",
              "      <th>766</th>\n",
              "      <td>1.0</td>\n",
              "      <td>126.0</td>\n",
              "      <td>60.0</td>\n",
              "      <td>35.2</td>\n",
              "      <td>134.2</td>\n",
              "      <td>30.1</td>\n",
              "      <td>0.349</td>\n",
              "      <td>47.0</td>\n",
              "    </tr>\n",
              "    <tr>\n",
              "      <th>767</th>\n",
              "      <td>1.0</td>\n",
              "      <td>93.0</td>\n",
              "      <td>70.0</td>\n",
              "      <td>31.0</td>\n",
              "      <td>66.6</td>\n",
              "      <td>30.4</td>\n",
              "      <td>0.315</td>\n",
              "      <td>23.0</td>\n",
              "    </tr>\n",
              "  </tbody>\n",
              "</table>\n",
              "<p>768 rows × 8 columns</p>\n",
              "</div>\n",
              "      <button class=\"colab-df-convert\" onclick=\"convertToInteractive('df-4f333cdf-12e1-4403-9ad6-4e215eec42c7')\"\n",
              "              title=\"Convert this dataframe to an interactive table.\"\n",
              "              style=\"display:none;\">\n",
              "        \n",
              "  <svg xmlns=\"http://www.w3.org/2000/svg\" height=\"24px\"viewBox=\"0 0 24 24\"\n",
              "       width=\"24px\">\n",
              "    <path d=\"M0 0h24v24H0V0z\" fill=\"none\"/>\n",
              "    <path d=\"M18.56 5.44l.94 2.06.94-2.06 2.06-.94-2.06-.94-.94-2.06-.94 2.06-2.06.94zm-11 1L8.5 8.5l.94-2.06 2.06-.94-2.06-.94L8.5 2.5l-.94 2.06-2.06.94zm10 10l.94 2.06.94-2.06 2.06-.94-2.06-.94-.94-2.06-.94 2.06-2.06.94z\"/><path d=\"M17.41 7.96l-1.37-1.37c-.4-.4-.92-.59-1.43-.59-.52 0-1.04.2-1.43.59L10.3 9.45l-7.72 7.72c-.78.78-.78 2.05 0 2.83L4 21.41c.39.39.9.59 1.41.59.51 0 1.02-.2 1.41-.59l7.78-7.78 2.81-2.81c.8-.78.8-2.07 0-2.86zM5.41 20L4 18.59l7.72-7.72 1.47 1.35L5.41 20z\"/>\n",
              "  </svg>\n",
              "      </button>\n",
              "      \n",
              "  <style>\n",
              "    .colab-df-container {\n",
              "      display:flex;\n",
              "      flex-wrap:wrap;\n",
              "      gap: 12px;\n",
              "    }\n",
              "\n",
              "    .colab-df-convert {\n",
              "      background-color: #E8F0FE;\n",
              "      border: none;\n",
              "      border-radius: 50%;\n",
              "      cursor: pointer;\n",
              "      display: none;\n",
              "      fill: #1967D2;\n",
              "      height: 32px;\n",
              "      padding: 0 0 0 0;\n",
              "      width: 32px;\n",
              "    }\n",
              "\n",
              "    .colab-df-convert:hover {\n",
              "      background-color: #E2EBFA;\n",
              "      box-shadow: 0px 1px 2px rgba(60, 64, 67, 0.3), 0px 1px 3px 1px rgba(60, 64, 67, 0.15);\n",
              "      fill: #174EA6;\n",
              "    }\n",
              "\n",
              "    [theme=dark] .colab-df-convert {\n",
              "      background-color: #3B4455;\n",
              "      fill: #D2E3FC;\n",
              "    }\n",
              "\n",
              "    [theme=dark] .colab-df-convert:hover {\n",
              "      background-color: #434B5C;\n",
              "      box-shadow: 0px 1px 3px 1px rgba(0, 0, 0, 0.15);\n",
              "      filter: drop-shadow(0px 1px 2px rgba(0, 0, 0, 0.3));\n",
              "      fill: #FFFFFF;\n",
              "    }\n",
              "  </style>\n",
              "\n",
              "      <script>\n",
              "        const buttonEl =\n",
              "          document.querySelector('#df-4f333cdf-12e1-4403-9ad6-4e215eec42c7 button.colab-df-convert');\n",
              "        buttonEl.style.display =\n",
              "          google.colab.kernel.accessAllowed ? 'block' : 'none';\n",
              "\n",
              "        async function convertToInteractive(key) {\n",
              "          const element = document.querySelector('#df-4f333cdf-12e1-4403-9ad6-4e215eec42c7');\n",
              "          const dataTable =\n",
              "            await google.colab.kernel.invokeFunction('convertToInteractive',\n",
              "                                                     [key], {});\n",
              "          if (!dataTable) return;\n",
              "\n",
              "          const docLinkHtml = 'Like what you see? Visit the ' +\n",
              "            '<a target=\"_blank\" href=https://colab.research.google.com/notebooks/data_table.ipynb>data table notebook</a>'\n",
              "            + ' to learn more about interactive tables.';\n",
              "          element.innerHTML = '';\n",
              "          dataTable['output_type'] = 'display_data';\n",
              "          await google.colab.output.renderOutput(dataTable, element);\n",
              "          const docLink = document.createElement('div');\n",
              "          docLink.innerHTML = docLinkHtml;\n",
              "          element.appendChild(docLink);\n",
              "        }\n",
              "      </script>\n",
              "    </div>\n",
              "  </div>\n",
              "  "
            ]
          },
          "metadata": {},
          "execution_count": 33
        }
      ]
    },
    {
      "cell_type": "code",
      "source": [
        "Y = diabetes_knn.iloc[:,-1]\n",
        "Y"
      ],
      "metadata": {
        "id": "RpxQARXZYnH9",
        "colab": {
          "base_uri": "https://localhost:8080/"
        },
        "outputId": "15e53285-c4f9-4cf5-c927-708cb19d4abe"
      },
      "execution_count": 34,
      "outputs": [
        {
          "output_type": "execute_result",
          "data": {
            "text/plain": [
              "0      1.0\n",
              "1      0.0\n",
              "2      1.0\n",
              "3      0.0\n",
              "4      1.0\n",
              "      ... \n",
              "763    0.0\n",
              "764    0.0\n",
              "765    0.0\n",
              "766    1.0\n",
              "767    0.0\n",
              "Name: Outcome, Length: 768, dtype: float64"
            ]
          },
          "metadata": {},
          "execution_count": 34
        }
      ]
    },
    {
      "cell_type": "markdown",
      "source": [
        "## **splitting** **the** **data**"
      ],
      "metadata": {
        "id": "N-4NWp9FZSpk"
      }
    },
    {
      "cell_type": "code",
      "source": [
        "from sklearn.model_selection import train_test_split\n",
        "X_train, X_test, y_train, y_test = train_test_split(X, Y, test_size = 0.2, random_state = 1)"
      ],
      "metadata": {
        "id": "xPJVw3hVXMQV"
      },
      "execution_count": 36,
      "outputs": []
    },
    {
      "cell_type": "code",
      "source": [
        "X_train\n",
        "#print(y_train)\n",
        "#print(X_test)\n",
        "#print(y_test)"
      ],
      "metadata": {
        "id": "_d1h-BvnZcCz",
        "colab": {
          "base_uri": "https://localhost:8080/",
          "height": 424
        },
        "outputId": "e889d52b-d778-4e2f-9dcb-50b46685c33a"
      },
      "execution_count": 37,
      "outputs": [
        {
          "output_type": "execute_result",
          "data": {
            "text/plain": [
              "     Pregnancies  Glucose  Blood Pressure  Skin Thickness  Insulin   BMI  \\\n",
              "663          9.0    145.0            80.0            46.0    130.0  37.9   \n",
              "712         10.0    129.0            62.0            36.0    177.4  41.2   \n",
              "161          7.0    102.0            74.0            40.0    105.0  37.2   \n",
              "509          8.0    120.0            78.0            22.0    273.8  25.0   \n",
              "305          2.0    120.0            76.0            37.0    105.0  39.7   \n",
              "..           ...      ...             ...             ...      ...   ...   \n",
              "645          2.0    157.0            74.0            35.0    343.0  39.4   \n",
              "715          7.0    187.0            50.0            33.0    343.0  33.9   \n",
              "72          13.0    126.0            90.0            31.4    125.6  43.4   \n",
              "235          4.0    171.0            72.0            42.4    323.8  43.6   \n",
              "37           9.0    102.0            76.0            37.0    136.6  32.9   \n",
              "\n",
              "     Diabetes Pedigree Function   Age  \n",
              "663                       0.637  40.0  \n",
              "712                       0.441  38.0  \n",
              "161                       0.204  45.0  \n",
              "509                       0.409  64.0  \n",
              "305                       0.215  29.0  \n",
              "..                          ...   ...  \n",
              "645                       0.134  30.0  \n",
              "715                       0.826  34.0  \n",
              "72                        0.583  42.0  \n",
              "235                       0.479  26.0  \n",
              "37                        0.665  46.0  \n",
              "\n",
              "[614 rows x 8 columns]"
            ],
            "text/html": [
              "\n",
              "  <div id=\"df-9ff5cebf-af93-471b-aa01-63ef7c290392\">\n",
              "    <div class=\"colab-df-container\">\n",
              "      <div>\n",
              "<style scoped>\n",
              "    .dataframe tbody tr th:only-of-type {\n",
              "        vertical-align: middle;\n",
              "    }\n",
              "\n",
              "    .dataframe tbody tr th {\n",
              "        vertical-align: top;\n",
              "    }\n",
              "\n",
              "    .dataframe thead th {\n",
              "        text-align: right;\n",
              "    }\n",
              "</style>\n",
              "<table border=\"1\" class=\"dataframe\">\n",
              "  <thead>\n",
              "    <tr style=\"text-align: right;\">\n",
              "      <th></th>\n",
              "      <th>Pregnancies</th>\n",
              "      <th>Glucose</th>\n",
              "      <th>Blood Pressure</th>\n",
              "      <th>Skin Thickness</th>\n",
              "      <th>Insulin</th>\n",
              "      <th>BMI</th>\n",
              "      <th>Diabetes Pedigree Function</th>\n",
              "      <th>Age</th>\n",
              "    </tr>\n",
              "  </thead>\n",
              "  <tbody>\n",
              "    <tr>\n",
              "      <th>663</th>\n",
              "      <td>9.0</td>\n",
              "      <td>145.0</td>\n",
              "      <td>80.0</td>\n",
              "      <td>46.0</td>\n",
              "      <td>130.0</td>\n",
              "      <td>37.9</td>\n",
              "      <td>0.637</td>\n",
              "      <td>40.0</td>\n",
              "    </tr>\n",
              "    <tr>\n",
              "      <th>712</th>\n",
              "      <td>10.0</td>\n",
              "      <td>129.0</td>\n",
              "      <td>62.0</td>\n",
              "      <td>36.0</td>\n",
              "      <td>177.4</td>\n",
              "      <td>41.2</td>\n",
              "      <td>0.441</td>\n",
              "      <td>38.0</td>\n",
              "    </tr>\n",
              "    <tr>\n",
              "      <th>161</th>\n",
              "      <td>7.0</td>\n",
              "      <td>102.0</td>\n",
              "      <td>74.0</td>\n",
              "      <td>40.0</td>\n",
              "      <td>105.0</td>\n",
              "      <td>37.2</td>\n",
              "      <td>0.204</td>\n",
              "      <td>45.0</td>\n",
              "    </tr>\n",
              "    <tr>\n",
              "      <th>509</th>\n",
              "      <td>8.0</td>\n",
              "      <td>120.0</td>\n",
              "      <td>78.0</td>\n",
              "      <td>22.0</td>\n",
              "      <td>273.8</td>\n",
              "      <td>25.0</td>\n",
              "      <td>0.409</td>\n",
              "      <td>64.0</td>\n",
              "    </tr>\n",
              "    <tr>\n",
              "      <th>305</th>\n",
              "      <td>2.0</td>\n",
              "      <td>120.0</td>\n",
              "      <td>76.0</td>\n",
              "      <td>37.0</td>\n",
              "      <td>105.0</td>\n",
              "      <td>39.7</td>\n",
              "      <td>0.215</td>\n",
              "      <td>29.0</td>\n",
              "    </tr>\n",
              "    <tr>\n",
              "      <th>...</th>\n",
              "      <td>...</td>\n",
              "      <td>...</td>\n",
              "      <td>...</td>\n",
              "      <td>...</td>\n",
              "      <td>...</td>\n",
              "      <td>...</td>\n",
              "      <td>...</td>\n",
              "      <td>...</td>\n",
              "    </tr>\n",
              "    <tr>\n",
              "      <th>645</th>\n",
              "      <td>2.0</td>\n",
              "      <td>157.0</td>\n",
              "      <td>74.0</td>\n",
              "      <td>35.0</td>\n",
              "      <td>343.0</td>\n",
              "      <td>39.4</td>\n",
              "      <td>0.134</td>\n",
              "      <td>30.0</td>\n",
              "    </tr>\n",
              "    <tr>\n",
              "      <th>715</th>\n",
              "      <td>7.0</td>\n",
              "      <td>187.0</td>\n",
              "      <td>50.0</td>\n",
              "      <td>33.0</td>\n",
              "      <td>343.0</td>\n",
              "      <td>33.9</td>\n",
              "      <td>0.826</td>\n",
              "      <td>34.0</td>\n",
              "    </tr>\n",
              "    <tr>\n",
              "      <th>72</th>\n",
              "      <td>13.0</td>\n",
              "      <td>126.0</td>\n",
              "      <td>90.0</td>\n",
              "      <td>31.4</td>\n",
              "      <td>125.6</td>\n",
              "      <td>43.4</td>\n",
              "      <td>0.583</td>\n",
              "      <td>42.0</td>\n",
              "    </tr>\n",
              "    <tr>\n",
              "      <th>235</th>\n",
              "      <td>4.0</td>\n",
              "      <td>171.0</td>\n",
              "      <td>72.0</td>\n",
              "      <td>42.4</td>\n",
              "      <td>323.8</td>\n",
              "      <td>43.6</td>\n",
              "      <td>0.479</td>\n",
              "      <td>26.0</td>\n",
              "    </tr>\n",
              "    <tr>\n",
              "      <th>37</th>\n",
              "      <td>9.0</td>\n",
              "      <td>102.0</td>\n",
              "      <td>76.0</td>\n",
              "      <td>37.0</td>\n",
              "      <td>136.6</td>\n",
              "      <td>32.9</td>\n",
              "      <td>0.665</td>\n",
              "      <td>46.0</td>\n",
              "    </tr>\n",
              "  </tbody>\n",
              "</table>\n",
              "<p>614 rows × 8 columns</p>\n",
              "</div>\n",
              "      <button class=\"colab-df-convert\" onclick=\"convertToInteractive('df-9ff5cebf-af93-471b-aa01-63ef7c290392')\"\n",
              "              title=\"Convert this dataframe to an interactive table.\"\n",
              "              style=\"display:none;\">\n",
              "        \n",
              "  <svg xmlns=\"http://www.w3.org/2000/svg\" height=\"24px\"viewBox=\"0 0 24 24\"\n",
              "       width=\"24px\">\n",
              "    <path d=\"M0 0h24v24H0V0z\" fill=\"none\"/>\n",
              "    <path d=\"M18.56 5.44l.94 2.06.94-2.06 2.06-.94-2.06-.94-.94-2.06-.94 2.06-2.06.94zm-11 1L8.5 8.5l.94-2.06 2.06-.94-2.06-.94L8.5 2.5l-.94 2.06-2.06.94zm10 10l.94 2.06.94-2.06 2.06-.94-2.06-.94-.94-2.06-.94 2.06-2.06.94z\"/><path d=\"M17.41 7.96l-1.37-1.37c-.4-.4-.92-.59-1.43-.59-.52 0-1.04.2-1.43.59L10.3 9.45l-7.72 7.72c-.78.78-.78 2.05 0 2.83L4 21.41c.39.39.9.59 1.41.59.51 0 1.02-.2 1.41-.59l7.78-7.78 2.81-2.81c.8-.78.8-2.07 0-2.86zM5.41 20L4 18.59l7.72-7.72 1.47 1.35L5.41 20z\"/>\n",
              "  </svg>\n",
              "      </button>\n",
              "      \n",
              "  <style>\n",
              "    .colab-df-container {\n",
              "      display:flex;\n",
              "      flex-wrap:wrap;\n",
              "      gap: 12px;\n",
              "    }\n",
              "\n",
              "    .colab-df-convert {\n",
              "      background-color: #E8F0FE;\n",
              "      border: none;\n",
              "      border-radius: 50%;\n",
              "      cursor: pointer;\n",
              "      display: none;\n",
              "      fill: #1967D2;\n",
              "      height: 32px;\n",
              "      padding: 0 0 0 0;\n",
              "      width: 32px;\n",
              "    }\n",
              "\n",
              "    .colab-df-convert:hover {\n",
              "      background-color: #E2EBFA;\n",
              "      box-shadow: 0px 1px 2px rgba(60, 64, 67, 0.3), 0px 1px 3px 1px rgba(60, 64, 67, 0.15);\n",
              "      fill: #174EA6;\n",
              "    }\n",
              "\n",
              "    [theme=dark] .colab-df-convert {\n",
              "      background-color: #3B4455;\n",
              "      fill: #D2E3FC;\n",
              "    }\n",
              "\n",
              "    [theme=dark] .colab-df-convert:hover {\n",
              "      background-color: #434B5C;\n",
              "      box-shadow: 0px 1px 3px 1px rgba(0, 0, 0, 0.15);\n",
              "      filter: drop-shadow(0px 1px 2px rgba(0, 0, 0, 0.3));\n",
              "      fill: #FFFFFF;\n",
              "    }\n",
              "  </style>\n",
              "\n",
              "      <script>\n",
              "        const buttonEl =\n",
              "          document.querySelector('#df-9ff5cebf-af93-471b-aa01-63ef7c290392 button.colab-df-convert');\n",
              "        buttonEl.style.display =\n",
              "          google.colab.kernel.accessAllowed ? 'block' : 'none';\n",
              "\n",
              "        async function convertToInteractive(key) {\n",
              "          const element = document.querySelector('#df-9ff5cebf-af93-471b-aa01-63ef7c290392');\n",
              "          const dataTable =\n",
              "            await google.colab.kernel.invokeFunction('convertToInteractive',\n",
              "                                                     [key], {});\n",
              "          if (!dataTable) return;\n",
              "\n",
              "          const docLinkHtml = 'Like what you see? Visit the ' +\n",
              "            '<a target=\"_blank\" href=https://colab.research.google.com/notebooks/data_table.ipynb>data table notebook</a>'\n",
              "            + ' to learn more about interactive tables.';\n",
              "          element.innerHTML = '';\n",
              "          dataTable['output_type'] = 'display_data';\n",
              "          await google.colab.output.renderOutput(dataTable, element);\n",
              "          const docLink = document.createElement('div');\n",
              "          docLink.innerHTML = docLinkHtml;\n",
              "          element.appendChild(docLink);\n",
              "        }\n",
              "      </script>\n",
              "    </div>\n",
              "  </div>\n",
              "  "
            ]
          },
          "metadata": {},
          "execution_count": 37
        }
      ]
    },
    {
      "cell_type": "markdown",
      "source": [
        "## **standardization**"
      ],
      "metadata": {
        "id": "MlWlp9OGaaqs"
      }
    },
    {
      "cell_type": "code",
      "source": [
        "numerical_cols"
      ],
      "metadata": {
        "id": "JMYMU97hd-jM",
        "colab": {
          "base_uri": "https://localhost:8080/"
        },
        "outputId": "c1b09f0f-ce0e-4585-d2b5-e370080e258b"
      },
      "execution_count": 38,
      "outputs": [
        {
          "output_type": "execute_result",
          "data": {
            "text/plain": [
              "['Pregnancies',\n",
              " 'Glucose',\n",
              " 'Blood Pressure',\n",
              " 'Skin Thickness',\n",
              " 'Insulin',\n",
              " 'BMI',\n",
              " 'Diabetes Pedigree Function',\n",
              " 'Age']"
            ]
          },
          "metadata": {},
          "execution_count": 38
        }
      ]
    },
    {
      "cell_type": "code",
      "source": [
        "from sklearn.preprocessing import StandardScaler\n",
        "sc = StandardScaler()\n",
        "\n",
        "X_train[numerical_cols] = sc.fit_transform(X_train[numerical_cols])\n",
        "\n",
        "X_test[numerical_cols] = sc.transform(X_test[numerical_cols])"
      ],
      "metadata": {
        "id": "YqSPFReNatrg"
      },
      "execution_count": 39,
      "outputs": []
    },
    {
      "cell_type": "code",
      "source": [
        "X_train.head()"
      ],
      "metadata": {
        "id": "vcigZ1dpjKVN",
        "colab": {
          "base_uri": "https://localhost:8080/",
          "height": 206
        },
        "outputId": "06f98433-dc3b-4346-efe6-567fab1ea385"
      },
      "execution_count": 40,
      "outputs": [
        {
          "output_type": "execute_result",
          "data": {
            "text/plain": [
              "     Pregnancies   Glucose  Blood Pressure  Skin Thickness   Insulin  \\\n",
              "663     1.521999  0.760346        0.648365        1.958904 -0.240869   \n",
              "712     1.818292  0.235313       -0.856092        0.825565  0.357277   \n",
              "161     0.929414 -0.650679        0.146879        1.278901 -0.556347   \n",
              "509     1.225706 -0.060017        0.481203       -0.761109  1.573761   \n",
              "305    -0.552050 -0.060017        0.314041        0.938899 -0.556347   \n",
              "\n",
              "          BMI  Diabetes Pedigree Function       Age  \n",
              "663  0.870334                    0.659673  0.573346  \n",
              "712  1.369223                   -0.035412  0.402849  \n",
              "161  0.764510                   -0.875896  0.999590  \n",
              "509 -1.079867                   -0.148895  2.619316  \n",
              "305  1.142456                   -0.836887 -0.364390  "
            ],
            "text/html": [
              "\n",
              "  <div id=\"df-1883ea93-43d1-4ac3-b750-18e3268baacb\">\n",
              "    <div class=\"colab-df-container\">\n",
              "      <div>\n",
              "<style scoped>\n",
              "    .dataframe tbody tr th:only-of-type {\n",
              "        vertical-align: middle;\n",
              "    }\n",
              "\n",
              "    .dataframe tbody tr th {\n",
              "        vertical-align: top;\n",
              "    }\n",
              "\n",
              "    .dataframe thead th {\n",
              "        text-align: right;\n",
              "    }\n",
              "</style>\n",
              "<table border=\"1\" class=\"dataframe\">\n",
              "  <thead>\n",
              "    <tr style=\"text-align: right;\">\n",
              "      <th></th>\n",
              "      <th>Pregnancies</th>\n",
              "      <th>Glucose</th>\n",
              "      <th>Blood Pressure</th>\n",
              "      <th>Skin Thickness</th>\n",
              "      <th>Insulin</th>\n",
              "      <th>BMI</th>\n",
              "      <th>Diabetes Pedigree Function</th>\n",
              "      <th>Age</th>\n",
              "    </tr>\n",
              "  </thead>\n",
              "  <tbody>\n",
              "    <tr>\n",
              "      <th>663</th>\n",
              "      <td>1.521999</td>\n",
              "      <td>0.760346</td>\n",
              "      <td>0.648365</td>\n",
              "      <td>1.958904</td>\n",
              "      <td>-0.240869</td>\n",
              "      <td>0.870334</td>\n",
              "      <td>0.659673</td>\n",
              "      <td>0.573346</td>\n",
              "    </tr>\n",
              "    <tr>\n",
              "      <th>712</th>\n",
              "      <td>1.818292</td>\n",
              "      <td>0.235313</td>\n",
              "      <td>-0.856092</td>\n",
              "      <td>0.825565</td>\n",
              "      <td>0.357277</td>\n",
              "      <td>1.369223</td>\n",
              "      <td>-0.035412</td>\n",
              "      <td>0.402849</td>\n",
              "    </tr>\n",
              "    <tr>\n",
              "      <th>161</th>\n",
              "      <td>0.929414</td>\n",
              "      <td>-0.650679</td>\n",
              "      <td>0.146879</td>\n",
              "      <td>1.278901</td>\n",
              "      <td>-0.556347</td>\n",
              "      <td>0.764510</td>\n",
              "      <td>-0.875896</td>\n",
              "      <td>0.999590</td>\n",
              "    </tr>\n",
              "    <tr>\n",
              "      <th>509</th>\n",
              "      <td>1.225706</td>\n",
              "      <td>-0.060017</td>\n",
              "      <td>0.481203</td>\n",
              "      <td>-0.761109</td>\n",
              "      <td>1.573761</td>\n",
              "      <td>-1.079867</td>\n",
              "      <td>-0.148895</td>\n",
              "      <td>2.619316</td>\n",
              "    </tr>\n",
              "    <tr>\n",
              "      <th>305</th>\n",
              "      <td>-0.552050</td>\n",
              "      <td>-0.060017</td>\n",
              "      <td>0.314041</td>\n",
              "      <td>0.938899</td>\n",
              "      <td>-0.556347</td>\n",
              "      <td>1.142456</td>\n",
              "      <td>-0.836887</td>\n",
              "      <td>-0.364390</td>\n",
              "    </tr>\n",
              "  </tbody>\n",
              "</table>\n",
              "</div>\n",
              "      <button class=\"colab-df-convert\" onclick=\"convertToInteractive('df-1883ea93-43d1-4ac3-b750-18e3268baacb')\"\n",
              "              title=\"Convert this dataframe to an interactive table.\"\n",
              "              style=\"display:none;\">\n",
              "        \n",
              "  <svg xmlns=\"http://www.w3.org/2000/svg\" height=\"24px\"viewBox=\"0 0 24 24\"\n",
              "       width=\"24px\">\n",
              "    <path d=\"M0 0h24v24H0V0z\" fill=\"none\"/>\n",
              "    <path d=\"M18.56 5.44l.94 2.06.94-2.06 2.06-.94-2.06-.94-.94-2.06-.94 2.06-2.06.94zm-11 1L8.5 8.5l.94-2.06 2.06-.94-2.06-.94L8.5 2.5l-.94 2.06-2.06.94zm10 10l.94 2.06.94-2.06 2.06-.94-2.06-.94-.94-2.06-.94 2.06-2.06.94z\"/><path d=\"M17.41 7.96l-1.37-1.37c-.4-.4-.92-.59-1.43-.59-.52 0-1.04.2-1.43.59L10.3 9.45l-7.72 7.72c-.78.78-.78 2.05 0 2.83L4 21.41c.39.39.9.59 1.41.59.51 0 1.02-.2 1.41-.59l7.78-7.78 2.81-2.81c.8-.78.8-2.07 0-2.86zM5.41 20L4 18.59l7.72-7.72 1.47 1.35L5.41 20z\"/>\n",
              "  </svg>\n",
              "      </button>\n",
              "      \n",
              "  <style>\n",
              "    .colab-df-container {\n",
              "      display:flex;\n",
              "      flex-wrap:wrap;\n",
              "      gap: 12px;\n",
              "    }\n",
              "\n",
              "    .colab-df-convert {\n",
              "      background-color: #E8F0FE;\n",
              "      border: none;\n",
              "      border-radius: 50%;\n",
              "      cursor: pointer;\n",
              "      display: none;\n",
              "      fill: #1967D2;\n",
              "      height: 32px;\n",
              "      padding: 0 0 0 0;\n",
              "      width: 32px;\n",
              "    }\n",
              "\n",
              "    .colab-df-convert:hover {\n",
              "      background-color: #E2EBFA;\n",
              "      box-shadow: 0px 1px 2px rgba(60, 64, 67, 0.3), 0px 1px 3px 1px rgba(60, 64, 67, 0.15);\n",
              "      fill: #174EA6;\n",
              "    }\n",
              "\n",
              "    [theme=dark] .colab-df-convert {\n",
              "      background-color: #3B4455;\n",
              "      fill: #D2E3FC;\n",
              "    }\n",
              "\n",
              "    [theme=dark] .colab-df-convert:hover {\n",
              "      background-color: #434B5C;\n",
              "      box-shadow: 0px 1px 3px 1px rgba(0, 0, 0, 0.15);\n",
              "      filter: drop-shadow(0px 1px 2px rgba(0, 0, 0, 0.3));\n",
              "      fill: #FFFFFF;\n",
              "    }\n",
              "  </style>\n",
              "\n",
              "      <script>\n",
              "        const buttonEl =\n",
              "          document.querySelector('#df-1883ea93-43d1-4ac3-b750-18e3268baacb button.colab-df-convert');\n",
              "        buttonEl.style.display =\n",
              "          google.colab.kernel.accessAllowed ? 'block' : 'none';\n",
              "\n",
              "        async function convertToInteractive(key) {\n",
              "          const element = document.querySelector('#df-1883ea93-43d1-4ac3-b750-18e3268baacb');\n",
              "          const dataTable =\n",
              "            await google.colab.kernel.invokeFunction('convertToInteractive',\n",
              "                                                     [key], {});\n",
              "          if (!dataTable) return;\n",
              "\n",
              "          const docLinkHtml = 'Like what you see? Visit the ' +\n",
              "            '<a target=\"_blank\" href=https://colab.research.google.com/notebooks/data_table.ipynb>data table notebook</a>'\n",
              "            + ' to learn more about interactive tables.';\n",
              "          element.innerHTML = '';\n",
              "          dataTable['output_type'] = 'display_data';\n",
              "          await google.colab.output.renderOutput(dataTable, element);\n",
              "          const docLink = document.createElement('div');\n",
              "          docLink.innerHTML = docLinkHtml;\n",
              "          element.appendChild(docLink);\n",
              "        }\n",
              "      </script>\n",
              "    </div>\n",
              "  </div>\n",
              "  "
            ]
          },
          "metadata": {},
          "execution_count": 40
        }
      ]
    },
    {
      "cell_type": "code",
      "source": [
        "X_train.shape"
      ],
      "metadata": {
        "id": "9uJjbxEVjVWg",
        "colab": {
          "base_uri": "https://localhost:8080/"
        },
        "outputId": "30b5fa87-7683-4b5f-f880-7a8cda976cd2"
      },
      "execution_count": 41,
      "outputs": [
        {
          "output_type": "execute_result",
          "data": {
            "text/plain": [
              "(614, 8)"
            ]
          },
          "metadata": {},
          "execution_count": 41
        }
      ]
    },
    {
      "cell_type": "code",
      "source": [
        "X_test.head()"
      ],
      "metadata": {
        "id": "DWJrpkF4bkoK",
        "colab": {
          "base_uri": "https://localhost:8080/",
          "height": 206
        },
        "outputId": "04318f99-8004-47cd-f876-456b9fc787a5"
      },
      "execution_count": 42,
      "outputs": [
        {
          "output_type": "execute_result",
          "data": {
            "text/plain": [
              "     Pregnancies   Glucose  Blood Pressure  Skin Thickness   Insulin  \\\n",
              "285     0.929414  0.465015        0.146879       -0.307773 -0.177773   \n",
              "101    -0.848343  0.957233       -1.023254       -0.330440  1.278474   \n",
              "581     0.633121 -0.420977       -1.023254       -0.194440 -0.387251   \n",
              "352    -0.255758 -1.996076        0.815527       -0.081106 -1.210018   \n",
              "726    -0.848343 -0.191276        0.481203        0.032228  0.390087   \n",
              "\n",
              "          BMI  Diabetes Pedigree Function       Age  \n",
              "285 -0.928688                    0.695137  1.511082  \n",
              "101 -0.913571                   -0.964555 -0.961131  \n",
              "581 -1.079867                   -0.868804 -0.534887  \n",
              "352  0.341210                   -0.737589  1.084839  \n",
              "726  0.598213                    0.159638 -0.705385  "
            ],
            "text/html": [
              "\n",
              "  <div id=\"df-03222fd7-20f5-43c2-b16c-a99bf54dadde\">\n",
              "    <div class=\"colab-df-container\">\n",
              "      <div>\n",
              "<style scoped>\n",
              "    .dataframe tbody tr th:only-of-type {\n",
              "        vertical-align: middle;\n",
              "    }\n",
              "\n",
              "    .dataframe tbody tr th {\n",
              "        vertical-align: top;\n",
              "    }\n",
              "\n",
              "    .dataframe thead th {\n",
              "        text-align: right;\n",
              "    }\n",
              "</style>\n",
              "<table border=\"1\" class=\"dataframe\">\n",
              "  <thead>\n",
              "    <tr style=\"text-align: right;\">\n",
              "      <th></th>\n",
              "      <th>Pregnancies</th>\n",
              "      <th>Glucose</th>\n",
              "      <th>Blood Pressure</th>\n",
              "      <th>Skin Thickness</th>\n",
              "      <th>Insulin</th>\n",
              "      <th>BMI</th>\n",
              "      <th>Diabetes Pedigree Function</th>\n",
              "      <th>Age</th>\n",
              "    </tr>\n",
              "  </thead>\n",
              "  <tbody>\n",
              "    <tr>\n",
              "      <th>285</th>\n",
              "      <td>0.929414</td>\n",
              "      <td>0.465015</td>\n",
              "      <td>0.146879</td>\n",
              "      <td>-0.307773</td>\n",
              "      <td>-0.177773</td>\n",
              "      <td>-0.928688</td>\n",
              "      <td>0.695137</td>\n",
              "      <td>1.511082</td>\n",
              "    </tr>\n",
              "    <tr>\n",
              "      <th>101</th>\n",
              "      <td>-0.848343</td>\n",
              "      <td>0.957233</td>\n",
              "      <td>-1.023254</td>\n",
              "      <td>-0.330440</td>\n",
              "      <td>1.278474</td>\n",
              "      <td>-0.913571</td>\n",
              "      <td>-0.964555</td>\n",
              "      <td>-0.961131</td>\n",
              "    </tr>\n",
              "    <tr>\n",
              "      <th>581</th>\n",
              "      <td>0.633121</td>\n",
              "      <td>-0.420977</td>\n",
              "      <td>-1.023254</td>\n",
              "      <td>-0.194440</td>\n",
              "      <td>-0.387251</td>\n",
              "      <td>-1.079867</td>\n",
              "      <td>-0.868804</td>\n",
              "      <td>-0.534887</td>\n",
              "    </tr>\n",
              "    <tr>\n",
              "      <th>352</th>\n",
              "      <td>-0.255758</td>\n",
              "      <td>-1.996076</td>\n",
              "      <td>0.815527</td>\n",
              "      <td>-0.081106</td>\n",
              "      <td>-1.210018</td>\n",
              "      <td>0.341210</td>\n",
              "      <td>-0.737589</td>\n",
              "      <td>1.084839</td>\n",
              "    </tr>\n",
              "    <tr>\n",
              "      <th>726</th>\n",
              "      <td>-0.848343</td>\n",
              "      <td>-0.191276</td>\n",
              "      <td>0.481203</td>\n",
              "      <td>0.032228</td>\n",
              "      <td>0.390087</td>\n",
              "      <td>0.598213</td>\n",
              "      <td>0.159638</td>\n",
              "      <td>-0.705385</td>\n",
              "    </tr>\n",
              "  </tbody>\n",
              "</table>\n",
              "</div>\n",
              "      <button class=\"colab-df-convert\" onclick=\"convertToInteractive('df-03222fd7-20f5-43c2-b16c-a99bf54dadde')\"\n",
              "              title=\"Convert this dataframe to an interactive table.\"\n",
              "              style=\"display:none;\">\n",
              "        \n",
              "  <svg xmlns=\"http://www.w3.org/2000/svg\" height=\"24px\"viewBox=\"0 0 24 24\"\n",
              "       width=\"24px\">\n",
              "    <path d=\"M0 0h24v24H0V0z\" fill=\"none\"/>\n",
              "    <path d=\"M18.56 5.44l.94 2.06.94-2.06 2.06-.94-2.06-.94-.94-2.06-.94 2.06-2.06.94zm-11 1L8.5 8.5l.94-2.06 2.06-.94-2.06-.94L8.5 2.5l-.94 2.06-2.06.94zm10 10l.94 2.06.94-2.06 2.06-.94-2.06-.94-.94-2.06-.94 2.06-2.06.94z\"/><path d=\"M17.41 7.96l-1.37-1.37c-.4-.4-.92-.59-1.43-.59-.52 0-1.04.2-1.43.59L10.3 9.45l-7.72 7.72c-.78.78-.78 2.05 0 2.83L4 21.41c.39.39.9.59 1.41.59.51 0 1.02-.2 1.41-.59l7.78-7.78 2.81-2.81c.8-.78.8-2.07 0-2.86zM5.41 20L4 18.59l7.72-7.72 1.47 1.35L5.41 20z\"/>\n",
              "  </svg>\n",
              "      </button>\n",
              "      \n",
              "  <style>\n",
              "    .colab-df-container {\n",
              "      display:flex;\n",
              "      flex-wrap:wrap;\n",
              "      gap: 12px;\n",
              "    }\n",
              "\n",
              "    .colab-df-convert {\n",
              "      background-color: #E8F0FE;\n",
              "      border: none;\n",
              "      border-radius: 50%;\n",
              "      cursor: pointer;\n",
              "      display: none;\n",
              "      fill: #1967D2;\n",
              "      height: 32px;\n",
              "      padding: 0 0 0 0;\n",
              "      width: 32px;\n",
              "    }\n",
              "\n",
              "    .colab-df-convert:hover {\n",
              "      background-color: #E2EBFA;\n",
              "      box-shadow: 0px 1px 2px rgba(60, 64, 67, 0.3), 0px 1px 3px 1px rgba(60, 64, 67, 0.15);\n",
              "      fill: #174EA6;\n",
              "    }\n",
              "\n",
              "    [theme=dark] .colab-df-convert {\n",
              "      background-color: #3B4455;\n",
              "      fill: #D2E3FC;\n",
              "    }\n",
              "\n",
              "    [theme=dark] .colab-df-convert:hover {\n",
              "      background-color: #434B5C;\n",
              "      box-shadow: 0px 1px 3px 1px rgba(0, 0, 0, 0.15);\n",
              "      filter: drop-shadow(0px 1px 2px rgba(0, 0, 0, 0.3));\n",
              "      fill: #FFFFFF;\n",
              "    }\n",
              "  </style>\n",
              "\n",
              "      <script>\n",
              "        const buttonEl =\n",
              "          document.querySelector('#df-03222fd7-20f5-43c2-b16c-a99bf54dadde button.colab-df-convert');\n",
              "        buttonEl.style.display =\n",
              "          google.colab.kernel.accessAllowed ? 'block' : 'none';\n",
              "\n",
              "        async function convertToInteractive(key) {\n",
              "          const element = document.querySelector('#df-03222fd7-20f5-43c2-b16c-a99bf54dadde');\n",
              "          const dataTable =\n",
              "            await google.colab.kernel.invokeFunction('convertToInteractive',\n",
              "                                                     [key], {});\n",
              "          if (!dataTable) return;\n",
              "\n",
              "          const docLinkHtml = 'Like what you see? Visit the ' +\n",
              "            '<a target=\"_blank\" href=https://colab.research.google.com/notebooks/data_table.ipynb>data table notebook</a>'\n",
              "            + ' to learn more about interactive tables.';\n",
              "          element.innerHTML = '';\n",
              "          dataTable['output_type'] = 'display_data';\n",
              "          await google.colab.output.renderOutput(dataTable, element);\n",
              "          const docLink = document.createElement('div');\n",
              "          docLink.innerHTML = docLinkHtml;\n",
              "          element.appendChild(docLink);\n",
              "        }\n",
              "      </script>\n",
              "    </div>\n",
              "  </div>\n",
              "  "
            ]
          },
          "metadata": {},
          "execution_count": 42
        }
      ]
    },
    {
      "cell_type": "code",
      "source": [
        "\n",
        "X_test.shape"
      ],
      "metadata": {
        "id": "P4udB-DOjZ17",
        "colab": {
          "base_uri": "https://localhost:8080/"
        },
        "outputId": "30738558-adc8-4a4b-ac8d-9754a59beba9"
      },
      "execution_count": 43,
      "outputs": [
        {
          "output_type": "execute_result",
          "data": {
            "text/plain": [
              "(154, 8)"
            ]
          },
          "metadata": {},
          "execution_count": 43
        }
      ]
    },
    {
      "cell_type": "code",
      "source": [
        "y_train.head()"
      ],
      "metadata": {
        "id": "sCCLxnyPjl5H",
        "colab": {
          "base_uri": "https://localhost:8080/"
        },
        "outputId": "a9c39bc3-11d7-4fed-ee8b-67e7d0038413"
      },
      "execution_count": 44,
      "outputs": [
        {
          "output_type": "execute_result",
          "data": {
            "text/plain": [
              "663    1.0\n",
              "712    1.0\n",
              "161    0.0\n",
              "509    0.0\n",
              "305    0.0\n",
              "Name: Outcome, dtype: float64"
            ]
          },
          "metadata": {},
          "execution_count": 44
        }
      ]
    },
    {
      "cell_type": "code",
      "source": [
        "y_train.shape"
      ],
      "metadata": {
        "id": "ZomTyOfEj0RO",
        "colab": {
          "base_uri": "https://localhost:8080/"
        },
        "outputId": "624ff39e-8a6e-406b-cf9e-efd54c91ec5e"
      },
      "execution_count": 45,
      "outputs": [
        {
          "output_type": "execute_result",
          "data": {
            "text/plain": [
              "(614,)"
            ]
          },
          "metadata": {},
          "execution_count": 45
        }
      ]
    },
    {
      "cell_type": "code",
      "source": [
        "y_test.head()"
      ],
      "metadata": {
        "id": "4EcOgx5zjgAA",
        "colab": {
          "base_uri": "https://localhost:8080/"
        },
        "outputId": "565e2e57-6dea-4358-f665-c289b3a05dd0"
      },
      "execution_count": 46,
      "outputs": [
        {
          "output_type": "execute_result",
          "data": {
            "text/plain": [
              "285    0.0\n",
              "101    0.0\n",
              "581    0.0\n",
              "352    0.0\n",
              "726    0.0\n",
              "Name: Outcome, dtype: float64"
            ]
          },
          "metadata": {},
          "execution_count": 46
        }
      ]
    },
    {
      "cell_type": "code",
      "source": [
        "y_test.shape"
      ],
      "metadata": {
        "id": "URNcvYFzjunh",
        "colab": {
          "base_uri": "https://localhost:8080/"
        },
        "outputId": "525950c5-7f6b-44c4-c8b5-ba6ae1a1c383"
      },
      "execution_count": 47,
      "outputs": [
        {
          "output_type": "execute_result",
          "data": {
            "text/plain": [
              "(154,)"
            ]
          },
          "metadata": {},
          "execution_count": 47
        }
      ]
    },
    {
      "cell_type": "markdown",
      "source": [
        "# **CONCLUSION**"
      ],
      "metadata": {
        "id": "OtsXlfbatwUw"
      }
    },
    {
      "cell_type": "markdown",
      "source": [
        "In case of diabetes \n",
        " Glucose , insulin and BMI are the important factors associated with the disease. where as age is also a important factor."
      ],
      "metadata": {
        "id": "8-dJe4XKqZCe"
      }
    },
    {
      "cell_type": "markdown",
      "source": [
        "The important features are being selected and are ready for the machine learning algorithms"
      ],
      "metadata": {
        "id": "DXX-K-FYrU0A"
      }
    }
  ],
  "metadata": {
    "colab": {
      "provenance": []
    },
    "kernelspec": {
      "display_name": "Python 3",
      "name": "python3"
    },
    "language_info": {
      "name": "python"
    }
  },
  "nbformat": 4,
  "nbformat_minor": 0
}